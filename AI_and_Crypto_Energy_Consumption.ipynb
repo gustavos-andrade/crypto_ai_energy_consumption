{
 "cells": [
  {
   "cell_type": "markdown",
   "metadata": {
    "id": "PTiALsCpGIEb"
   },
   "source": [
    "\n",
    "\n",
    "# A forecast of the impact of AI and Crypto Minning in Global Energy Consumption\n",
    "\n",
    "\n",
    "A predictive modelling of the future impact of AI and Crypto Mining in the world energy cnsumption.\n"
   ]
  },
  {
   "cell_type": "markdown",
   "metadata": {
    "id": "EbDizIzHGIEd"
   },
   "source": [
    "## Content"
   ]
  },
  {
   "cell_type": "markdown",
   "metadata": {
    "id": "ttglU8AmGIEd"
   },
   "source": [
    "* [1. Problem Statement](#0)\n",
    "* [2. Getting Started - Load Libraries and Dataset](#1)\n",
    "    * [2.1. Load Libraries](#1.1)    \n",
    "    * [2.2. Load Dataset](#1.2)\n",
    "* [3. Exploratory Data Analysis](#2)\n",
    "    * [3.1 Descriptive Statistics](#2.1)    \n",
    "    * [3.2. Data Visualisation](#2.2)\n",
    "* [4. Data Preparation](#3)\n",
    "    * [4.1 Data Cleaning](#3.1)\n",
    "    * [4.3.Feature Selection](#3.2)\n",
    "    * [4.3.Data Transformation](#3.3)\n",
    "        * [4.3.1 Rescaling ](#3.3.1)\n",
    "        * [4.3.2 Standardization](#3.3.2)\n",
    "        * [4.3.3 Normalization](#3.3.3)    \n",
    "* [5.Evaluate Algorithms and Models](#4)        \n",
    "    * [5.1. Train/Test Split](#4.1)\n",
    "    * [5.2. Test Options and Evaluation Metrics](#4.2)\n",
    "    * [5.3. Compare Models and Algorithms](#4.3)\n",
    "        * [5.3.1 Common Regression Models](#4.3.1)\n",
    "        * [5.3.2 Ensemble Models](#4.3.2)\n",
    "        * [5.3.3 Deep Learning Models](#4.3.3)  \n",
    "    * [5.4. Time Series based Models-ARIMA and LSTM](#4.4)\n",
    "        * [5.4.1 ARIMA Model](#4.4.1)\n",
    "        * [5.4.2 LSTM Model](#4.4.2)\n",
    "* [6. Model Tuning and Grid Search](#5)\n",
    "    * [6.1 Common Regression, Ensemble and DeepNNRegressor Grid Search](#5.1)\n",
    "    * [6.2 ARIMA and LSTM Grid Search](#5.2)\n",
    "* [7. Finalize the Model](#6)  \n",
    "    * [7.1. Results on test dataset](#6.1)\n",
    "    * [7.1. Variable Intuition/Feature Selection](#6.2)\n",
    "    * [7.3. Save model for later use](#6.3)\n"
   ]
  },
  {
   "cell_type": "markdown",
   "metadata": {
    "id": "SfeG6KXqGIEe"
   },
   "source": [
    "<a id='0'></a>\n",
    "# 1. Problem Statement"
   ]
  },
  {
   "cell_type": "markdown",
   "metadata": {
    "id": "ktexBSZuGIEe"
   },
   "source": [
    "The goal in this jupyter notebook is to create a pipeline to analyze the problem of enegy consumption prediction in the next 10 years, evaluating the increase in demand by AI and Minning of Crypto currencies.\n",
    "The pipeline is based on the following steps:\n",
    "- Load the data avaliable in csv files and other sources from IEA (International Energy Agency) https://www.iea.org/\n",
    "- Transform the data applying the required formats and merging the datasets\n",
    "- Plot and analyze the statistics to understand patterns and prepare data to training in machine learning models\n",
    "- Apply ensemble methods and tuning of ensemble methods to improve model performance.\n",
    "- The Following Models are implemented and evaluated\n",
    "\n",
    "    * Ada Boost\n",
    "    * Gradient Boosting Method\n",
    "    * Random Forest\n",
    "    * Extra Trees\n",
    "    * Neural Network - Shallow - Using sklearn\n",
    "    * Deep Neural Network - Using Keras\n",
    "- Time Series Models\n",
    "    * ARIMA Model\n",
    "    * LSTM - Using Keras\n",
    "    "
   ]
  },
  {
   "cell_type": "markdown",
   "metadata": {
    "id": "EOT6Q-2wGIEf"
   },
   "source": [
    "<a id='1'></a>\n",
    "# 2. Getting Started- Loading the data and python packages"
   ]
  },
  {
   "cell_type": "markdown",
   "metadata": {
    "id": "YatF9Tz0GIEf"
   },
   "source": [
    "<a id='1.1'></a>\n",
    "## 2.1. Loading the python packages"
   ]
  },
  {
   "cell_type": "code",
   "execution_count": 39,
   "metadata": {
    "id": "1jGMgGJaGIEg"
   },
   "outputs": [],
   "source": [
    "# Load libraries\n",
    "import numpy as np\n",
    "import pandas as pd\n",
    "from datetime import datetime\n",
    "import pandas_datareader.data as web\n",
    "from matplotlib import pyplot\n",
    "from pandas.plotting import scatter_matrix\n",
    "import seaborn as sns\n",
    "from sklearn.preprocessing import StandardScaler\n",
    "\n",
    "from sklearn.model_selection import train_test_split\n",
    "from sklearn.model_selection import KFold\n",
    "from sklearn.model_selection import cross_val_score\n",
    "from sklearn.model_selection import GridSearchCV\n",
    "\n",
    "from sklearn.linear_model import LinearRegression\n",
    "from sklearn.linear_model import Lasso\n",
    "from sklearn.linear_model import ElasticNet\n",
    "from sklearn.tree import DecisionTreeRegressor\n",
    "from sklearn.neighbors import KNeighborsRegressor\n",
    "from sklearn.svm import SVR\n",
    "\n",
    "from sklearn.ensemble import RandomForestRegressor\n",
    "from sklearn.ensemble import GradientBoostingRegressor\n",
    "from sklearn.ensemble import ExtraTreesRegressor\n",
    "from sklearn.ensemble import AdaBoostRegressor\n",
    "from sklearn.neural_network import MLPRegressor\n",
    "\n",
    "#Libraries for Deep Learning Models\n",
    "from keras.models import Sequential\n",
    "from keras.layers import Dense\n",
    "from keras.optimizers import SGD\n",
    "from keras.layers import LSTM\n",
    "from scikeras.wrappers import KerasClassifier\n",
    "\n",
    "#Libraries for Statistical Models\n",
    "import statsmodels.api as sm\n",
    "\n",
    "#Libraries for Saving the Model\n",
    "from pickle import dump\n",
    "from pickle import load"
   ]
  },
  {
   "cell_type": "markdown",
   "metadata": {
    "id": "Vlzi2rUFGIEh"
   },
   "source": [
    "<a id='1.2'></a>\n",
    "## 2.2. Loading the Data"
   ]
  },
  {
   "cell_type": "code",
   "execution_count": 40,
   "metadata": {
    "id": "KnIMIGp3jg4Z"
   },
   "outputs": [],
   "source": [
    "# load dataset\n",
    "\n",
    "world = pd.read_excel('World Energy Balances Highlights 2024.xlsx', sheet_name='TimeSeries_1971-2023', header=1)\n",
    "\n",
    "bitcoin = pd.read_excel('Bitcoin_Energy.xlsx')\n",
    "\n",
    "etherium = pd.read_csv('Historical Ethereum network annualised electricity consumption (PoS).csv')"
   ]
  },
  {
   "cell_type": "code",
   "execution_count": 41,
   "metadata": {
    "id": "7SQ_dDwkGIEi"
   },
   "outputs": [],
   "source": [
    "# Transforming the datasets\n",
    "world = world[(world.Country == 'World') & (world.Product == 'Total') & (world.Flow == 'Total final consumption (PJ)')].iloc[:,6:world.shape[1]-1]\n",
    "\n",
    "world = world.T\n",
    "\n",
    "world.reset_index(inplace=True)\n",
    "\n",
    "world.columns = ['Year','Consumption']\n",
    "\n",
    "# Converting the Energy Consumption from PJ to TWh to annalyze the data in the same base of Crypto Minning and Data Centre Energy Consumption\n",
    "world['Consumption'] = pd.to_numeric(world['Consumption']) * 0.27778\n",
    "\n",
    "# Converting the column Date and Time of Bitcoin and Etherium to date\n",
    "bitcoin['Date and Time'] = pd.to_datetime(bitcoin['Date and Time'], errors='coerce')\n",
    "\n",
    "etherium['Date and Time'] = pd.to_datetime(etherium['Date and Time'], errors='coerce')\n",
    "\n",
    "# Conveting Etherium Consumption from GWh to TWh\n",
    "etherium.iloc[:,4:] =  etherium.iloc[:,4:]/1000\n",
    "\n",
    "etherium.columns = etherium.columns.str.split(',').str[0]\n",
    "\n",
    "bitcoin.columns = etherium.columns.str.split(',').str[0]\n",
    "\n",
    "# Merging both crypto datasets\n",
    "crypto = pd.merge(bitcoin[['Date and Time','annualised consumption MAX']], etherium[['Date and Time','annualised consumption GUESS']], on= 'Date and Time',how='left')\n",
    "\n",
    "# Summarising data by year\n",
    "crypto_year = crypto.groupby(crypto['Date and Time'].dt.year)[['annualised consumption MAX','annualised consumption GUESS']].mean().reset_index()\n",
    "\n",
    "crypto_year.fillna(0, inplace=True)\n",
    "\n",
    "crypto_year['Consumption'] = crypto_year['annualised consumption MAX'] + crypto_year['annualised consumption GUESS']\n",
    "\n",
    "crypto_year.drop(columns=['annualised consumption MAX','annualised consumption GUESS'], inplace=True)\n",
    "\n",
    "crypto_year = crypto_year.rename(columns={'Date and Time':'Year'})\n",
    "\n",
    "# Creating the dataframe of Data Center Energy consumption with data provided by IEA\n",
    "datacenter = pd.DataFrame({'Year':list(range(2014,2025)), 'Consumption':[194, 191, 195, 195, 198, 192, 269, 300, 330, 361, 416]})\n",
    "\n",
    "# Merging Crypto and Data Centers in a single dataframe\n",
    "crypto_datacenter = pd.merge(crypto_year, datacenter, on='Year', how='inner')\n",
    "\n",
    "crypto_datacenter['Total Consumption'] = crypto_datacenter['Consumption_x'] +  crypto_datacenter['Consumption_y']\n",
    "\n",
    "crypto_datacenter.drop(columns=['Consumption_x', 'Consumption_y'], inplace=True)"
   ]
  },
  {
   "cell_type": "code",
   "execution_count": 42,
   "metadata": {
    "id": "UBE-qUdyGIEi"
   },
   "outputs": [],
   "source": [
    "#Diable the warnings\n",
    "import warnings\n",
    "warnings.filterwarnings('ignore')"
   ]
  },
  {
   "cell_type": "markdown",
   "metadata": {
    "id": "0QVNFmxZGIEj"
   },
   "source": [
    "<a id='2'></a>\n",
    "# 3. Exploratory Data Analysis"
   ]
  },
  {
   "cell_type": "markdown",
   "metadata": {
    "id": "FFhIlOWwGIEk"
   },
   "source": [
    "<a id='2.1'></a>\n",
    "## 3.1. Descriptive Statistics"
   ]
  },
  {
   "cell_type": "code",
   "execution_count": 43,
   "metadata": {
    "id": "8pX-rj5fGIEk"
   },
   "outputs": [
    {
     "data": {
      "text/plain": [
       "(11, 2)"
      ]
     },
     "execution_count": 43,
     "metadata": {},
     "output_type": "execute_result"
    }
   ],
   "source": [
    "# Crypto and Data Center shape\n",
    "crypto_datacenter.shape"
   ]
  },
  {
   "cell_type": "code",
   "execution_count": 44,
   "metadata": {
    "id": "96FMjC8euoP_"
   },
   "outputs": [
    {
     "data": {
      "text/plain": [
       "(52, 2)"
      ]
     },
     "execution_count": 44,
     "metadata": {},
     "output_type": "execute_result"
    }
   ],
   "source": [
    "# World Energy shape\n",
    "world.shape"
   ]
  },
  {
   "cell_type": "code",
   "execution_count": 45,
   "metadata": {
    "id": "OUXPsufmGIEk"
   },
   "outputs": [
    {
     "data": {
      "text/plain": [
       "Year                   int32\n",
       "Total Consumption    float64\n",
       "dtype: object"
      ]
     },
     "execution_count": 45,
     "metadata": {},
     "output_type": "execute_result"
    }
   ],
   "source": [
    "# Crypto and Data Center types\n",
    "pd.set_option('display.max_rows', 500)\n",
    "crypto_datacenter.dtypes"
   ]
  },
  {
   "cell_type": "code",
   "execution_count": 46,
   "metadata": {
    "id": "mv6QvjD7vUT3"
   },
   "outputs": [
    {
     "data": {
      "text/plain": [
       "Year             int64\n",
       "Consumption    float64\n",
       "dtype: object"
      ]
     },
     "execution_count": 46,
     "metadata": {},
     "output_type": "execute_result"
    }
   ],
   "source": [
    "# World Energy types\n",
    "pd.set_option('display.max_rows', 500)\n",
    "world.dtypes"
   ]
  },
  {
   "cell_type": "code",
   "execution_count": 47,
   "metadata": {
    "id": "5Y_kVPiHGIEk"
   },
   "outputs": [
    {
     "data": {
      "text/html": [
       "<div>\n",
       "<style scoped>\n",
       "    .dataframe tbody tr th:only-of-type {\n",
       "        vertical-align: middle;\n",
       "    }\n",
       "\n",
       "    .dataframe tbody tr th {\n",
       "        vertical-align: top;\n",
       "    }\n",
       "\n",
       "    .dataframe thead th {\n",
       "        text-align: right;\n",
       "    }\n",
       "</style>\n",
       "<table border=\"1\" class=\"dataframe\">\n",
       "  <thead>\n",
       "    <tr style=\"text-align: right;\">\n",
       "      <th></th>\n",
       "      <th>Year</th>\n",
       "      <th>Total Consumption</th>\n",
       "    </tr>\n",
       "  </thead>\n",
       "  <tbody>\n",
       "    <tr>\n",
       "      <th>count</th>\n",
       "      <td>11.000</td>\n",
       "      <td>11.000</td>\n",
       "    </tr>\n",
       "    <tr>\n",
       "      <th>mean</th>\n",
       "      <td>2019.000</td>\n",
       "      <td>317.938</td>\n",
       "    </tr>\n",
       "    <tr>\n",
       "      <th>std</th>\n",
       "      <td>3.317</td>\n",
       "      <td>132.642</td>\n",
       "    </tr>\n",
       "    <tr>\n",
       "      <th>min</th>\n",
       "      <td>2014.000</td>\n",
       "      <td>194.621</td>\n",
       "    </tr>\n",
       "    <tr>\n",
       "      <th>25%</th>\n",
       "      <td>2016.500</td>\n",
       "      <td>204.328</td>\n",
       "    </tr>\n",
       "    <tr>\n",
       "      <th>50%</th>\n",
       "      <td>2019.000</td>\n",
       "      <td>246.667</td>\n",
       "    </tr>\n",
       "    <tr>\n",
       "      <th>75%</th>\n",
       "      <td>2021.500</td>\n",
       "      <td>407.331</td>\n",
       "    </tr>\n",
       "    <tr>\n",
       "      <th>max</th>\n",
       "      <td>2024.000</td>\n",
       "      <td>574.396</td>\n",
       "    </tr>\n",
       "  </tbody>\n",
       "</table>\n",
       "</div>"
      ],
      "text/plain": [
       "           Year  Total Consumption\n",
       "count    11.000             11.000\n",
       "mean   2019.000            317.938\n",
       "std       3.317            132.642\n",
       "min    2014.000            194.621\n",
       "25%    2016.500            204.328\n",
       "50%    2019.000            246.667\n",
       "75%    2021.500            407.331\n",
       "max    2024.000            574.396"
      ]
     },
     "execution_count": 47,
     "metadata": {},
     "output_type": "execute_result"
    }
   ],
   "source": [
    "# describe Crypto and Data Center data\n",
    "pd.set_option('display.precision', 3)\n",
    "crypto_datacenter.describe()"
   ]
  },
  {
   "cell_type": "code",
   "execution_count": 48,
   "metadata": {
    "id": "0d081YMJwJZr"
   },
   "outputs": [
    {
     "data": {
      "text/html": [
       "<div>\n",
       "<style scoped>\n",
       "    .dataframe tbody tr th:only-of-type {\n",
       "        vertical-align: middle;\n",
       "    }\n",
       "\n",
       "    .dataframe tbody tr th {\n",
       "        vertical-align: top;\n",
       "    }\n",
       "\n",
       "    .dataframe thead th {\n",
       "        text-align: right;\n",
       "    }\n",
       "</style>\n",
       "<table border=\"1\" class=\"dataframe\">\n",
       "  <thead>\n",
       "    <tr style=\"text-align: right;\">\n",
       "      <th></th>\n",
       "      <th>Year</th>\n",
       "      <th>Consumption</th>\n",
       "    </tr>\n",
       "  </thead>\n",
       "  <tbody>\n",
       "    <tr>\n",
       "      <th>count</th>\n",
       "      <td>52.000</td>\n",
       "      <td>52.000</td>\n",
       "    </tr>\n",
       "    <tr>\n",
       "      <th>mean</th>\n",
       "      <td>1996.500</td>\n",
       "      <td>80904.552</td>\n",
       "    </tr>\n",
       "    <tr>\n",
       "      <th>std</th>\n",
       "      <td>15.155</td>\n",
       "      <td>20376.505</td>\n",
       "    </tr>\n",
       "    <tr>\n",
       "      <th>min</th>\n",
       "      <td>1971.000</td>\n",
       "      <td>48759.010</td>\n",
       "    </tr>\n",
       "    <tr>\n",
       "      <th>25%</th>\n",
       "      <td>1983.750</td>\n",
       "      <td>63170.737</td>\n",
       "    </tr>\n",
       "    <tr>\n",
       "      <th>50%</th>\n",
       "      <td>1996.500</td>\n",
       "      <td>76582.896</td>\n",
       "    </tr>\n",
       "    <tr>\n",
       "      <th>75%</th>\n",
       "      <td>2009.250</td>\n",
       "      <td>98288.915</td>\n",
       "    </tr>\n",
       "    <tr>\n",
       "      <th>max</th>\n",
       "      <td>2022.000</td>\n",
       "      <td>117183.552</td>\n",
       "    </tr>\n",
       "  </tbody>\n",
       "</table>\n",
       "</div>"
      ],
      "text/plain": [
       "           Year  Consumption\n",
       "count    52.000       52.000\n",
       "mean   1996.500    80904.552\n",
       "std      15.155    20376.505\n",
       "min    1971.000    48759.010\n",
       "25%    1983.750    63170.737\n",
       "50%    1996.500    76582.896\n",
       "75%    2009.250    98288.915\n",
       "max    2022.000   117183.552"
      ]
     },
     "execution_count": 48,
     "metadata": {},
     "output_type": "execute_result"
    }
   ],
   "source": [
    "# describe World Energy data\n",
    "pd.set_option('display.precision', 3)\n",
    "world.describe()"
   ]
  },
  {
   "cell_type": "markdown",
   "metadata": {
    "id": "rOB8B2oaGIEl"
   },
   "source": [
    "<a id='2.2'></a>\n",
    "## 3.2. Data Visualization"
   ]
  },
  {
   "cell_type": "code",
   "execution_count": 49,
   "metadata": {
    "id": "1GGJIsjj7FdX"
   },
   "outputs": [
    {
     "data": {
      "application/vnd.plotly.v1+json": {
       "config": {
        "plotlyServerURL": "https://plot.ly"
       },
       "data": [
        {
         "hovertemplate": "Source=World<br>Year=%{x}<br>value=%{y}<extra></extra>",
         "legendgroup": "World",
         "line": {
          "color": "#636efa",
          "dash": "solid"
         },
         "marker": {
          "symbol": "circle"
         },
         "mode": "lines",
         "name": "World",
         "orientation": "v",
         "showlegend": true,
         "type": "scatter",
         "x": {
          "bdata": "swe0B7UHtge3B7gHuQe6B7sHvAe9B74HvwfAB8EHwgfDB8QHxQfGB8cHyAfJB8oHywfMB80HzgfPB9AH0QfSB9MH1AfVB9YH1wfYB9kH2gfbB9wH3QfeB98H4AfhB+IH4wfkB+UH5gc=",
          "dtype": "i2"
         },
         "xaxis": "x",
         "y": {
          "bdata": "ipweUeDO50BODuHwzO3oQHzF/2/XJOpAvb52E+Eb6kD3Pyg+eljqQKC48w9fhOtAaJ5PqQt97ECuneGzQ4TtQLUB3bk3Ze5A87J3XQUe7kAllk0GOOvtQPRZ2JJSmu1Ay91rESPe7UBxn1KOt/7uQJP+A5GbeO9Aic4joHIZ8EDqbH85HJrwQCU3JVFOKfFAPssKTV9G8UDOLdqHfYrxQOvitWlAuvFAY1l1RUaq8UCkCMKobsbxQDzUmDvT2/FA6dkjKcRG8kDm3wHakJTyQL5RndFL0PJAVhx7RMDZ8kBQTssXmjXzQE9lhrrEpPNAqx06R0y+80AHft3kxhT0QGxWCQjqtvRA4TuSdN6o9UBlWDcB5lj2QGVvzl0o7vZAadZZWg6R90ByWIILNb73QJwfMCO4bfdA2owiZ5vB+EAi6ADykhb5QOHqOLJ1W/lAvfHAAI7W+UBC/sLALiz6QKXyB4fGZ/pAhDK4Bv+4+kDm97x2s0L7QDPlQyCt5ftAz34ZBp0N/EAzqDsxkdX6QHj4r08PNfxALrKx0/ib/EA=",
          "dtype": "f8"
         },
         "yaxis": "y"
        },
        {
         "hovertemplate": "Source=Crypto and AI<br>Year=%{x}<br>value=%{y}<extra></extra>",
         "legendgroup": "Crypto and AI",
         "line": {
          "color": "#EF553B",
          "dash": "solid"
         },
         "marker": {
          "symbol": "circle"
         },
         "mode": "lines",
         "name": "Crypto and AI",
         "orientation": "v",
         "showlegend": true,
         "type": "scatter",
         "x": {
          "bdata": "swe0B7UHtge3B7gHuQe6B7sHvAe9B74HvwfAB8EHwgfDB8QHxQfGB8cHyAfJB8oHywfMB80HzgfPB9AH0QfSB9MH1AfVB9YH1wfYB9kH2gfbB9wH3QfeB98H4AfhB+IH4wfkB+UH5gc=",
          "dtype": "i2"
         },
         "xaxis": "x",
         "y": {
          "bdata": "AAAAAAAA+H8AAAAAAAD4fwAAAAAAAPh/AAAAAAAA+H8AAAAAAAD4fwAAAAAAAPh/AAAAAAAA+H8AAAAAAAD4fwAAAAAAAPh/AAAAAAAA+H8AAAAAAAD4fwAAAAAAAPh/AAAAAAAA+H8AAAAAAAD4fwAAAAAAAPh/AAAAAAAA+H8AAAAAAAD4fwAAAAAAAPh/AAAAAAAA+H8AAAAAAAD4fwAAAAAAAPh/AAAAAAAA+H8AAAAAAAD4fwAAAAAAAPh/AAAAAAAA+H8AAAAAAAD4fwAAAAAAAPh/AAAAAAAA+H8AAAAAAAD4fwAAAAAAAPh/AAAAAAAA+H8AAAAAAAD4fwAAAAAAAPh/AAAAAAAA+H8AAAAAAAD4fwAAAAAAAPh/AAAAAAAA+H8AAAAAAAD4fwAAAAAAAPh/AAAAAAAA+H8AAAAAAAD4fwAAAAAAAPh/AAAAAAAA+H/GgewEjtdoQOKeIFDiU2hAdpxAkP8WaUCXSHpa/P1pQPBT6fc4K25AN4eTnVnVbkCXinQBAgB1QGUz3hQKUXhAopyIxI6ZekA=",
          "dtype": "f8"
         },
         "yaxis": "y"
        }
       ],
       "layout": {
        "height": 500,
        "legend": {
         "title": {
          "text": "Source"
         },
         "tracegroupgap": 0
        },
        "template": {
         "data": {
          "bar": [
           {
            "error_x": {
             "color": "#2a3f5f"
            },
            "error_y": {
             "color": "#2a3f5f"
            },
            "marker": {
             "line": {
              "color": "#E5ECF6",
              "width": 0.5
             },
             "pattern": {
              "fillmode": "overlay",
              "size": 10,
              "solidity": 0.2
             }
            },
            "type": "bar"
           }
          ],
          "barpolar": [
           {
            "marker": {
             "line": {
              "color": "#E5ECF6",
              "width": 0.5
             },
             "pattern": {
              "fillmode": "overlay",
              "size": 10,
              "solidity": 0.2
             }
            },
            "type": "barpolar"
           }
          ],
          "carpet": [
           {
            "aaxis": {
             "endlinecolor": "#2a3f5f",
             "gridcolor": "white",
             "linecolor": "white",
             "minorgridcolor": "white",
             "startlinecolor": "#2a3f5f"
            },
            "baxis": {
             "endlinecolor": "#2a3f5f",
             "gridcolor": "white",
             "linecolor": "white",
             "minorgridcolor": "white",
             "startlinecolor": "#2a3f5f"
            },
            "type": "carpet"
           }
          ],
          "choropleth": [
           {
            "colorbar": {
             "outlinewidth": 0,
             "ticks": ""
            },
            "type": "choropleth"
           }
          ],
          "contour": [
           {
            "colorbar": {
             "outlinewidth": 0,
             "ticks": ""
            },
            "colorscale": [
             [
              0,
              "#0d0887"
             ],
             [
              0.1111111111111111,
              "#46039f"
             ],
             [
              0.2222222222222222,
              "#7201a8"
             ],
             [
              0.3333333333333333,
              "#9c179e"
             ],
             [
              0.4444444444444444,
              "#bd3786"
             ],
             [
              0.5555555555555556,
              "#d8576b"
             ],
             [
              0.6666666666666666,
              "#ed7953"
             ],
             [
              0.7777777777777778,
              "#fb9f3a"
             ],
             [
              0.8888888888888888,
              "#fdca26"
             ],
             [
              1,
              "#f0f921"
             ]
            ],
            "type": "contour"
           }
          ],
          "contourcarpet": [
           {
            "colorbar": {
             "outlinewidth": 0,
             "ticks": ""
            },
            "type": "contourcarpet"
           }
          ],
          "heatmap": [
           {
            "colorbar": {
             "outlinewidth": 0,
             "ticks": ""
            },
            "colorscale": [
             [
              0,
              "#0d0887"
             ],
             [
              0.1111111111111111,
              "#46039f"
             ],
             [
              0.2222222222222222,
              "#7201a8"
             ],
             [
              0.3333333333333333,
              "#9c179e"
             ],
             [
              0.4444444444444444,
              "#bd3786"
             ],
             [
              0.5555555555555556,
              "#d8576b"
             ],
             [
              0.6666666666666666,
              "#ed7953"
             ],
             [
              0.7777777777777778,
              "#fb9f3a"
             ],
             [
              0.8888888888888888,
              "#fdca26"
             ],
             [
              1,
              "#f0f921"
             ]
            ],
            "type": "heatmap"
           }
          ],
          "histogram": [
           {
            "marker": {
             "pattern": {
              "fillmode": "overlay",
              "size": 10,
              "solidity": 0.2
             }
            },
            "type": "histogram"
           }
          ],
          "histogram2d": [
           {
            "colorbar": {
             "outlinewidth": 0,
             "ticks": ""
            },
            "colorscale": [
             [
              0,
              "#0d0887"
             ],
             [
              0.1111111111111111,
              "#46039f"
             ],
             [
              0.2222222222222222,
              "#7201a8"
             ],
             [
              0.3333333333333333,
              "#9c179e"
             ],
             [
              0.4444444444444444,
              "#bd3786"
             ],
             [
              0.5555555555555556,
              "#d8576b"
             ],
             [
              0.6666666666666666,
              "#ed7953"
             ],
             [
              0.7777777777777778,
              "#fb9f3a"
             ],
             [
              0.8888888888888888,
              "#fdca26"
             ],
             [
              1,
              "#f0f921"
             ]
            ],
            "type": "histogram2d"
           }
          ],
          "histogram2dcontour": [
           {
            "colorbar": {
             "outlinewidth": 0,
             "ticks": ""
            },
            "colorscale": [
             [
              0,
              "#0d0887"
             ],
             [
              0.1111111111111111,
              "#46039f"
             ],
             [
              0.2222222222222222,
              "#7201a8"
             ],
             [
              0.3333333333333333,
              "#9c179e"
             ],
             [
              0.4444444444444444,
              "#bd3786"
             ],
             [
              0.5555555555555556,
              "#d8576b"
             ],
             [
              0.6666666666666666,
              "#ed7953"
             ],
             [
              0.7777777777777778,
              "#fb9f3a"
             ],
             [
              0.8888888888888888,
              "#fdca26"
             ],
             [
              1,
              "#f0f921"
             ]
            ],
            "type": "histogram2dcontour"
           }
          ],
          "mesh3d": [
           {
            "colorbar": {
             "outlinewidth": 0,
             "ticks": ""
            },
            "type": "mesh3d"
           }
          ],
          "parcoords": [
           {
            "line": {
             "colorbar": {
              "outlinewidth": 0,
              "ticks": ""
             }
            },
            "type": "parcoords"
           }
          ],
          "pie": [
           {
            "automargin": true,
            "type": "pie"
           }
          ],
          "scatter": [
           {
            "fillpattern": {
             "fillmode": "overlay",
             "size": 10,
             "solidity": 0.2
            },
            "type": "scatter"
           }
          ],
          "scatter3d": [
           {
            "line": {
             "colorbar": {
              "outlinewidth": 0,
              "ticks": ""
             }
            },
            "marker": {
             "colorbar": {
              "outlinewidth": 0,
              "ticks": ""
             }
            },
            "type": "scatter3d"
           }
          ],
          "scattercarpet": [
           {
            "marker": {
             "colorbar": {
              "outlinewidth": 0,
              "ticks": ""
             }
            },
            "type": "scattercarpet"
           }
          ],
          "scattergeo": [
           {
            "marker": {
             "colorbar": {
              "outlinewidth": 0,
              "ticks": ""
             }
            },
            "type": "scattergeo"
           }
          ],
          "scattergl": [
           {
            "marker": {
             "colorbar": {
              "outlinewidth": 0,
              "ticks": ""
             }
            },
            "type": "scattergl"
           }
          ],
          "scattermap": [
           {
            "marker": {
             "colorbar": {
              "outlinewidth": 0,
              "ticks": ""
             }
            },
            "type": "scattermap"
           }
          ],
          "scattermapbox": [
           {
            "marker": {
             "colorbar": {
              "outlinewidth": 0,
              "ticks": ""
             }
            },
            "type": "scattermapbox"
           }
          ],
          "scatterpolar": [
           {
            "marker": {
             "colorbar": {
              "outlinewidth": 0,
              "ticks": ""
             }
            },
            "type": "scatterpolar"
           }
          ],
          "scatterpolargl": [
           {
            "marker": {
             "colorbar": {
              "outlinewidth": 0,
              "ticks": ""
             }
            },
            "type": "scatterpolargl"
           }
          ],
          "scatterternary": [
           {
            "marker": {
             "colorbar": {
              "outlinewidth": 0,
              "ticks": ""
             }
            },
            "type": "scatterternary"
           }
          ],
          "surface": [
           {
            "colorbar": {
             "outlinewidth": 0,
             "ticks": ""
            },
            "colorscale": [
             [
              0,
              "#0d0887"
             ],
             [
              0.1111111111111111,
              "#46039f"
             ],
             [
              0.2222222222222222,
              "#7201a8"
             ],
             [
              0.3333333333333333,
              "#9c179e"
             ],
             [
              0.4444444444444444,
              "#bd3786"
             ],
             [
              0.5555555555555556,
              "#d8576b"
             ],
             [
              0.6666666666666666,
              "#ed7953"
             ],
             [
              0.7777777777777778,
              "#fb9f3a"
             ],
             [
              0.8888888888888888,
              "#fdca26"
             ],
             [
              1,
              "#f0f921"
             ]
            ],
            "type": "surface"
           }
          ],
          "table": [
           {
            "cells": {
             "fill": {
              "color": "#EBF0F8"
             },
             "line": {
              "color": "white"
             }
            },
            "header": {
             "fill": {
              "color": "#C8D4E3"
             },
             "line": {
              "color": "white"
             }
            },
            "type": "table"
           }
          ]
         },
         "layout": {
          "annotationdefaults": {
           "arrowcolor": "#2a3f5f",
           "arrowhead": 0,
           "arrowwidth": 1
          },
          "autotypenumbers": "strict",
          "coloraxis": {
           "colorbar": {
            "outlinewidth": 0,
            "ticks": ""
           }
          },
          "colorscale": {
           "diverging": [
            [
             0,
             "#8e0152"
            ],
            [
             0.1,
             "#c51b7d"
            ],
            [
             0.2,
             "#de77ae"
            ],
            [
             0.3,
             "#f1b6da"
            ],
            [
             0.4,
             "#fde0ef"
            ],
            [
             0.5,
             "#f7f7f7"
            ],
            [
             0.6,
             "#e6f5d0"
            ],
            [
             0.7,
             "#b8e186"
            ],
            [
             0.8,
             "#7fbc41"
            ],
            [
             0.9,
             "#4d9221"
            ],
            [
             1,
             "#276419"
            ]
           ],
           "sequential": [
            [
             0,
             "#0d0887"
            ],
            [
             0.1111111111111111,
             "#46039f"
            ],
            [
             0.2222222222222222,
             "#7201a8"
            ],
            [
             0.3333333333333333,
             "#9c179e"
            ],
            [
             0.4444444444444444,
             "#bd3786"
            ],
            [
             0.5555555555555556,
             "#d8576b"
            ],
            [
             0.6666666666666666,
             "#ed7953"
            ],
            [
             0.7777777777777778,
             "#fb9f3a"
            ],
            [
             0.8888888888888888,
             "#fdca26"
            ],
            [
             1,
             "#f0f921"
            ]
           ],
           "sequentialminus": [
            [
             0,
             "#0d0887"
            ],
            [
             0.1111111111111111,
             "#46039f"
            ],
            [
             0.2222222222222222,
             "#7201a8"
            ],
            [
             0.3333333333333333,
             "#9c179e"
            ],
            [
             0.4444444444444444,
             "#bd3786"
            ],
            [
             0.5555555555555556,
             "#d8576b"
            ],
            [
             0.6666666666666666,
             "#ed7953"
            ],
            [
             0.7777777777777778,
             "#fb9f3a"
            ],
            [
             0.8888888888888888,
             "#fdca26"
            ],
            [
             1,
             "#f0f921"
            ]
           ]
          },
          "colorway": [
           "#636efa",
           "#EF553B",
           "#00cc96",
           "#ab63fa",
           "#FFA15A",
           "#19d3f3",
           "#FF6692",
           "#B6E880",
           "#FF97FF",
           "#FECB52"
          ],
          "font": {
           "color": "#2a3f5f"
          },
          "geo": {
           "bgcolor": "white",
           "lakecolor": "white",
           "landcolor": "#E5ECF6",
           "showlakes": true,
           "showland": true,
           "subunitcolor": "white"
          },
          "hoverlabel": {
           "align": "left"
          },
          "hovermode": "closest",
          "mapbox": {
           "style": "light"
          },
          "paper_bgcolor": "white",
          "plot_bgcolor": "#E5ECF6",
          "polar": {
           "angularaxis": {
            "gridcolor": "white",
            "linecolor": "white",
            "ticks": ""
           },
           "bgcolor": "#E5ECF6",
           "radialaxis": {
            "gridcolor": "white",
            "linecolor": "white",
            "ticks": ""
           }
          },
          "scene": {
           "xaxis": {
            "backgroundcolor": "#E5ECF6",
            "gridcolor": "white",
            "gridwidth": 2,
            "linecolor": "white",
            "showbackground": true,
            "ticks": "",
            "zerolinecolor": "white"
           },
           "yaxis": {
            "backgroundcolor": "#E5ECF6",
            "gridcolor": "white",
            "gridwidth": 2,
            "linecolor": "white",
            "showbackground": true,
            "ticks": "",
            "zerolinecolor": "white"
           },
           "zaxis": {
            "backgroundcolor": "#E5ECF6",
            "gridcolor": "white",
            "gridwidth": 2,
            "linecolor": "white",
            "showbackground": true,
            "ticks": "",
            "zerolinecolor": "white"
           }
          },
          "shapedefaults": {
           "line": {
            "color": "#2a3f5f"
           }
          },
          "ternary": {
           "aaxis": {
            "gridcolor": "white",
            "linecolor": "white",
            "ticks": ""
           },
           "baxis": {
            "gridcolor": "white",
            "linecolor": "white",
            "ticks": ""
           },
           "bgcolor": "#E5ECF6",
           "caxis": {
            "gridcolor": "white",
            "linecolor": "white",
            "ticks": ""
           }
          },
          "title": {
           "x": 0.05
          },
          "xaxis": {
           "automargin": true,
           "gridcolor": "white",
           "linecolor": "white",
           "ticks": "",
           "title": {
            "standoff": 15
           },
           "zerolinecolor": "white",
           "zerolinewidth": 2
          },
          "yaxis": {
           "automargin": true,
           "gridcolor": "white",
           "linecolor": "white",
           "ticks": "",
           "title": {
            "standoff": 15
           },
           "zerolinecolor": "white",
           "zerolinewidth": 2
          }
         }
        },
        "title": {
         "text": "Total Energy Consumption by Source"
        },
        "width": 1000,
        "xaxis": {
         "anchor": "y",
         "domain": [
          0,
          1
         ],
         "title": {
          "text": "Year"
         }
        },
        "yaxis": {
         "anchor": "x",
         "domain": [
          0,
          1
         ],
         "title": {
          "text": "value"
         }
        }
       }
      }
     },
     "metadata": {},
     "output_type": "display_data"
    }
   ],
   "source": [
    "# Plotting data to visualize\n",
    "import plotly.express as px\n",
    "\n",
    "df = pd.merge(world, crypto_datacenter, how = 'left')\n",
    "df.columns = ['Year', 'World', 'Crypto and AI']\n",
    "\n",
    "fig = px.line(df, x='Year', y=['World','Crypto and AI'], labels={'variable':'Source'}, title=\"Total Energy Consumption by Source\",\n",
    "              line_dash_sequence=['solid', 'dash'], height=500, width=1000)\n",
    "fig.show()"
   ]
  },
  {
   "cell_type": "code",
   "execution_count": 50,
   "metadata": {
    "id": "mPzPNKGS_4I-"
   },
   "outputs": [
    {
     "data": {
      "application/vnd.plotly.v1+json": {
       "config": {
        "plotlyServerURL": "https://plot.ly"
       },
       "data": [
        {
         "hovertemplate": "variable=Total Consumption<br>Year=%{x}<br>value=%{y}<extra></extra>",
         "legendgroup": "Total Consumption",
         "line": {
          "color": "red",
          "dash": "solid"
         },
         "marker": {
          "symbol": "circle"
         },
         "mode": "lines",
         "name": "Total Consumption",
         "orientation": "v",
         "showlegend": true,
         "type": "scatter",
         "x": {
          "bdata": "3gcAAN8HAADgBwAA4QcAAOIHAADjBwAA5AcAAOUHAADmBwAA5wcAAOgHAAA=",
          "dtype": "i4"
         },
         "xaxis": "x",
         "y": {
          "bdata": "xoHsBI7XaEDiniBQ4lNoQHacQJD/FmlAl0h6Wvz9aUDwU+n3OCtuQDeHk51Z1W5Al4p0AQIAdUBlM94UClF4QKKciMSOmXpAB0eR3pAjfkARYMQhK/OBQA==",
          "dtype": "f8"
         },
         "yaxis": "y"
        }
       ],
       "layout": {
        "height": 500,
        "legend": {
         "title": {
          "text": "variable"
         },
         "tracegroupgap": 0
        },
        "template": {
         "data": {
          "bar": [
           {
            "error_x": {
             "color": "#2a3f5f"
            },
            "error_y": {
             "color": "#2a3f5f"
            },
            "marker": {
             "line": {
              "color": "#E5ECF6",
              "width": 0.5
             },
             "pattern": {
              "fillmode": "overlay",
              "size": 10,
              "solidity": 0.2
             }
            },
            "type": "bar"
           }
          ],
          "barpolar": [
           {
            "marker": {
             "line": {
              "color": "#E5ECF6",
              "width": 0.5
             },
             "pattern": {
              "fillmode": "overlay",
              "size": 10,
              "solidity": 0.2
             }
            },
            "type": "barpolar"
           }
          ],
          "carpet": [
           {
            "aaxis": {
             "endlinecolor": "#2a3f5f",
             "gridcolor": "white",
             "linecolor": "white",
             "minorgridcolor": "white",
             "startlinecolor": "#2a3f5f"
            },
            "baxis": {
             "endlinecolor": "#2a3f5f",
             "gridcolor": "white",
             "linecolor": "white",
             "minorgridcolor": "white",
             "startlinecolor": "#2a3f5f"
            },
            "type": "carpet"
           }
          ],
          "choropleth": [
           {
            "colorbar": {
             "outlinewidth": 0,
             "ticks": ""
            },
            "type": "choropleth"
           }
          ],
          "contour": [
           {
            "colorbar": {
             "outlinewidth": 0,
             "ticks": ""
            },
            "colorscale": [
             [
              0,
              "#0d0887"
             ],
             [
              0.1111111111111111,
              "#46039f"
             ],
             [
              0.2222222222222222,
              "#7201a8"
             ],
             [
              0.3333333333333333,
              "#9c179e"
             ],
             [
              0.4444444444444444,
              "#bd3786"
             ],
             [
              0.5555555555555556,
              "#d8576b"
             ],
             [
              0.6666666666666666,
              "#ed7953"
             ],
             [
              0.7777777777777778,
              "#fb9f3a"
             ],
             [
              0.8888888888888888,
              "#fdca26"
             ],
             [
              1,
              "#f0f921"
             ]
            ],
            "type": "contour"
           }
          ],
          "contourcarpet": [
           {
            "colorbar": {
             "outlinewidth": 0,
             "ticks": ""
            },
            "type": "contourcarpet"
           }
          ],
          "heatmap": [
           {
            "colorbar": {
             "outlinewidth": 0,
             "ticks": ""
            },
            "colorscale": [
             [
              0,
              "#0d0887"
             ],
             [
              0.1111111111111111,
              "#46039f"
             ],
             [
              0.2222222222222222,
              "#7201a8"
             ],
             [
              0.3333333333333333,
              "#9c179e"
             ],
             [
              0.4444444444444444,
              "#bd3786"
             ],
             [
              0.5555555555555556,
              "#d8576b"
             ],
             [
              0.6666666666666666,
              "#ed7953"
             ],
             [
              0.7777777777777778,
              "#fb9f3a"
             ],
             [
              0.8888888888888888,
              "#fdca26"
             ],
             [
              1,
              "#f0f921"
             ]
            ],
            "type": "heatmap"
           }
          ],
          "histogram": [
           {
            "marker": {
             "pattern": {
              "fillmode": "overlay",
              "size": 10,
              "solidity": 0.2
             }
            },
            "type": "histogram"
           }
          ],
          "histogram2d": [
           {
            "colorbar": {
             "outlinewidth": 0,
             "ticks": ""
            },
            "colorscale": [
             [
              0,
              "#0d0887"
             ],
             [
              0.1111111111111111,
              "#46039f"
             ],
             [
              0.2222222222222222,
              "#7201a8"
             ],
             [
              0.3333333333333333,
              "#9c179e"
             ],
             [
              0.4444444444444444,
              "#bd3786"
             ],
             [
              0.5555555555555556,
              "#d8576b"
             ],
             [
              0.6666666666666666,
              "#ed7953"
             ],
             [
              0.7777777777777778,
              "#fb9f3a"
             ],
             [
              0.8888888888888888,
              "#fdca26"
             ],
             [
              1,
              "#f0f921"
             ]
            ],
            "type": "histogram2d"
           }
          ],
          "histogram2dcontour": [
           {
            "colorbar": {
             "outlinewidth": 0,
             "ticks": ""
            },
            "colorscale": [
             [
              0,
              "#0d0887"
             ],
             [
              0.1111111111111111,
              "#46039f"
             ],
             [
              0.2222222222222222,
              "#7201a8"
             ],
             [
              0.3333333333333333,
              "#9c179e"
             ],
             [
              0.4444444444444444,
              "#bd3786"
             ],
             [
              0.5555555555555556,
              "#d8576b"
             ],
             [
              0.6666666666666666,
              "#ed7953"
             ],
             [
              0.7777777777777778,
              "#fb9f3a"
             ],
             [
              0.8888888888888888,
              "#fdca26"
             ],
             [
              1,
              "#f0f921"
             ]
            ],
            "type": "histogram2dcontour"
           }
          ],
          "mesh3d": [
           {
            "colorbar": {
             "outlinewidth": 0,
             "ticks": ""
            },
            "type": "mesh3d"
           }
          ],
          "parcoords": [
           {
            "line": {
             "colorbar": {
              "outlinewidth": 0,
              "ticks": ""
             }
            },
            "type": "parcoords"
           }
          ],
          "pie": [
           {
            "automargin": true,
            "type": "pie"
           }
          ],
          "scatter": [
           {
            "fillpattern": {
             "fillmode": "overlay",
             "size": 10,
             "solidity": 0.2
            },
            "type": "scatter"
           }
          ],
          "scatter3d": [
           {
            "line": {
             "colorbar": {
              "outlinewidth": 0,
              "ticks": ""
             }
            },
            "marker": {
             "colorbar": {
              "outlinewidth": 0,
              "ticks": ""
             }
            },
            "type": "scatter3d"
           }
          ],
          "scattercarpet": [
           {
            "marker": {
             "colorbar": {
              "outlinewidth": 0,
              "ticks": ""
             }
            },
            "type": "scattercarpet"
           }
          ],
          "scattergeo": [
           {
            "marker": {
             "colorbar": {
              "outlinewidth": 0,
              "ticks": ""
             }
            },
            "type": "scattergeo"
           }
          ],
          "scattergl": [
           {
            "marker": {
             "colorbar": {
              "outlinewidth": 0,
              "ticks": ""
             }
            },
            "type": "scattergl"
           }
          ],
          "scattermap": [
           {
            "marker": {
             "colorbar": {
              "outlinewidth": 0,
              "ticks": ""
             }
            },
            "type": "scattermap"
           }
          ],
          "scattermapbox": [
           {
            "marker": {
             "colorbar": {
              "outlinewidth": 0,
              "ticks": ""
             }
            },
            "type": "scattermapbox"
           }
          ],
          "scatterpolar": [
           {
            "marker": {
             "colorbar": {
              "outlinewidth": 0,
              "ticks": ""
             }
            },
            "type": "scatterpolar"
           }
          ],
          "scatterpolargl": [
           {
            "marker": {
             "colorbar": {
              "outlinewidth": 0,
              "ticks": ""
             }
            },
            "type": "scatterpolargl"
           }
          ],
          "scatterternary": [
           {
            "marker": {
             "colorbar": {
              "outlinewidth": 0,
              "ticks": ""
             }
            },
            "type": "scatterternary"
           }
          ],
          "surface": [
           {
            "colorbar": {
             "outlinewidth": 0,
             "ticks": ""
            },
            "colorscale": [
             [
              0,
              "#0d0887"
             ],
             [
              0.1111111111111111,
              "#46039f"
             ],
             [
              0.2222222222222222,
              "#7201a8"
             ],
             [
              0.3333333333333333,
              "#9c179e"
             ],
             [
              0.4444444444444444,
              "#bd3786"
             ],
             [
              0.5555555555555556,
              "#d8576b"
             ],
             [
              0.6666666666666666,
              "#ed7953"
             ],
             [
              0.7777777777777778,
              "#fb9f3a"
             ],
             [
              0.8888888888888888,
              "#fdca26"
             ],
             [
              1,
              "#f0f921"
             ]
            ],
            "type": "surface"
           }
          ],
          "table": [
           {
            "cells": {
             "fill": {
              "color": "#EBF0F8"
             },
             "line": {
              "color": "white"
             }
            },
            "header": {
             "fill": {
              "color": "#C8D4E3"
             },
             "line": {
              "color": "white"
             }
            },
            "type": "table"
           }
          ]
         },
         "layout": {
          "annotationdefaults": {
           "arrowcolor": "#2a3f5f",
           "arrowhead": 0,
           "arrowwidth": 1
          },
          "autotypenumbers": "strict",
          "coloraxis": {
           "colorbar": {
            "outlinewidth": 0,
            "ticks": ""
           }
          },
          "colorscale": {
           "diverging": [
            [
             0,
             "#8e0152"
            ],
            [
             0.1,
             "#c51b7d"
            ],
            [
             0.2,
             "#de77ae"
            ],
            [
             0.3,
             "#f1b6da"
            ],
            [
             0.4,
             "#fde0ef"
            ],
            [
             0.5,
             "#f7f7f7"
            ],
            [
             0.6,
             "#e6f5d0"
            ],
            [
             0.7,
             "#b8e186"
            ],
            [
             0.8,
             "#7fbc41"
            ],
            [
             0.9,
             "#4d9221"
            ],
            [
             1,
             "#276419"
            ]
           ],
           "sequential": [
            [
             0,
             "#0d0887"
            ],
            [
             0.1111111111111111,
             "#46039f"
            ],
            [
             0.2222222222222222,
             "#7201a8"
            ],
            [
             0.3333333333333333,
             "#9c179e"
            ],
            [
             0.4444444444444444,
             "#bd3786"
            ],
            [
             0.5555555555555556,
             "#d8576b"
            ],
            [
             0.6666666666666666,
             "#ed7953"
            ],
            [
             0.7777777777777778,
             "#fb9f3a"
            ],
            [
             0.8888888888888888,
             "#fdca26"
            ],
            [
             1,
             "#f0f921"
            ]
           ],
           "sequentialminus": [
            [
             0,
             "#0d0887"
            ],
            [
             0.1111111111111111,
             "#46039f"
            ],
            [
             0.2222222222222222,
             "#7201a8"
            ],
            [
             0.3333333333333333,
             "#9c179e"
            ],
            [
             0.4444444444444444,
             "#bd3786"
            ],
            [
             0.5555555555555556,
             "#d8576b"
            ],
            [
             0.6666666666666666,
             "#ed7953"
            ],
            [
             0.7777777777777778,
             "#fb9f3a"
            ],
            [
             0.8888888888888888,
             "#fdca26"
            ],
            [
             1,
             "#f0f921"
            ]
           ]
          },
          "colorway": [
           "#636efa",
           "#EF553B",
           "#00cc96",
           "#ab63fa",
           "#FFA15A",
           "#19d3f3",
           "#FF6692",
           "#B6E880",
           "#FF97FF",
           "#FECB52"
          ],
          "font": {
           "color": "#2a3f5f"
          },
          "geo": {
           "bgcolor": "white",
           "lakecolor": "white",
           "landcolor": "#E5ECF6",
           "showlakes": true,
           "showland": true,
           "subunitcolor": "white"
          },
          "hoverlabel": {
           "align": "left"
          },
          "hovermode": "closest",
          "mapbox": {
           "style": "light"
          },
          "paper_bgcolor": "white",
          "plot_bgcolor": "#E5ECF6",
          "polar": {
           "angularaxis": {
            "gridcolor": "white",
            "linecolor": "white",
            "ticks": ""
           },
           "bgcolor": "#E5ECF6",
           "radialaxis": {
            "gridcolor": "white",
            "linecolor": "white",
            "ticks": ""
           }
          },
          "scene": {
           "xaxis": {
            "backgroundcolor": "#E5ECF6",
            "gridcolor": "white",
            "gridwidth": 2,
            "linecolor": "white",
            "showbackground": true,
            "ticks": "",
            "zerolinecolor": "white"
           },
           "yaxis": {
            "backgroundcolor": "#E5ECF6",
            "gridcolor": "white",
            "gridwidth": 2,
            "linecolor": "white",
            "showbackground": true,
            "ticks": "",
            "zerolinecolor": "white"
           },
           "zaxis": {
            "backgroundcolor": "#E5ECF6",
            "gridcolor": "white",
            "gridwidth": 2,
            "linecolor": "white",
            "showbackground": true,
            "ticks": "",
            "zerolinecolor": "white"
           }
          },
          "shapedefaults": {
           "line": {
            "color": "#2a3f5f"
           }
          },
          "ternary": {
           "aaxis": {
            "gridcolor": "white",
            "linecolor": "white",
            "ticks": ""
           },
           "baxis": {
            "gridcolor": "white",
            "linecolor": "white",
            "ticks": ""
           },
           "bgcolor": "#E5ECF6",
           "caxis": {
            "gridcolor": "white",
            "linecolor": "white",
            "ticks": ""
           }
          },
          "title": {
           "x": 0.05
          },
          "xaxis": {
           "automargin": true,
           "gridcolor": "white",
           "linecolor": "white",
           "ticks": "",
           "title": {
            "standoff": 15
           },
           "zerolinecolor": "white",
           "zerolinewidth": 2
          },
          "yaxis": {
           "automargin": true,
           "gridcolor": "white",
           "linecolor": "white",
           "ticks": "",
           "title": {
            "standoff": 15
           },
           "zerolinecolor": "white",
           "zerolinewidth": 2
          }
         }
        },
        "title": {
         "text": "Total Energy Consumption by Crypto Minning and Datacenters"
        },
        "width": 1000,
        "xaxis": {
         "anchor": "y",
         "domain": [
          0,
          1
         ],
         "title": {
          "text": "Year"
         }
        },
        "yaxis": {
         "anchor": "x",
         "domain": [
          0,
          1
         ],
         "title": {
          "text": "value"
         }
        }
       }
      }
     },
     "metadata": {},
     "output_type": "display_data"
    }
   ],
   "source": [
    "# Plotting individual charts to analyze the patterns - Crypto and Data Centers Energy Consumption\n",
    "fig = px.line(crypto_datacenter, x='Year', y=['Total Consumption'], color_discrete_sequence=['red'], title=\"Total Energy Consumption by Crypto Minning and Datacenters\", height=500, width=1000)\n",
    "fig.show()"
   ]
  },
  {
   "cell_type": "code",
   "execution_count": 51,
   "metadata": {
    "id": "LSla1DsKBdIM"
   },
   "outputs": [
    {
     "data": {
      "application/vnd.plotly.v1+json": {
       "config": {
        "plotlyServerURL": "https://plot.ly"
       },
       "data": [
        {
         "hovertemplate": "variable=Consumption<br>Year=%{x}<br>value=%{y}<extra></extra>",
         "legendgroup": "Consumption",
         "line": {
          "color": "blue",
          "dash": "solid"
         },
         "marker": {
          "symbol": "circle"
         },
         "mode": "lines",
         "name": "Consumption",
         "orientation": "v",
         "showlegend": true,
         "type": "scatter",
         "x": {
          "bdata": "swe0B7UHtge3B7gHuQe6B7sHvAe9B74HvwfAB8EHwgfDB8QHxQfGB8cHyAfJB8oHywfMB80HzgfPB9AH0QfSB9MH1AfVB9YH1wfYB9kH2gfbB9wH3QfeB98H4AfhB+IH4wfkB+UH5gc=",
          "dtype": "i2"
         },
         "xaxis": "x",
         "y": {
          "bdata": "ipweUeDO50BODuHwzO3oQHzF/2/XJOpAvb52E+Eb6kD3Pyg+eljqQKC48w9fhOtAaJ5PqQt97ECuneGzQ4TtQLUB3bk3Ze5A87J3XQUe7kAllk0GOOvtQPRZ2JJSmu1Ay91rESPe7UBxn1KOt/7uQJP+A5GbeO9Aic4joHIZ8EDqbH85HJrwQCU3JVFOKfFAPssKTV9G8UDOLdqHfYrxQOvitWlAuvFAY1l1RUaq8UCkCMKobsbxQDzUmDvT2/FA6dkjKcRG8kDm3wHakJTyQL5RndFL0PJAVhx7RMDZ8kBQTssXmjXzQE9lhrrEpPNAqx06R0y+80AHft3kxhT0QGxWCQjqtvRA4TuSdN6o9UBlWDcB5lj2QGVvzl0o7vZAadZZWg6R90ByWIILNb73QJwfMCO4bfdA2owiZ5vB+EAi6ADykhb5QOHqOLJ1W/lAvfHAAI7W+UBC/sLALiz6QKXyB4fGZ/pAhDK4Bv+4+kDm97x2s0L7QDPlQyCt5ftAz34ZBp0N/EAzqDsxkdX6QHj4r08PNfxALrKx0/ib/EA=",
          "dtype": "f8"
         },
         "yaxis": "y"
        }
       ],
       "layout": {
        "height": 500,
        "legend": {
         "title": {
          "text": "variable"
         },
         "tracegroupgap": 0
        },
        "template": {
         "data": {
          "bar": [
           {
            "error_x": {
             "color": "#2a3f5f"
            },
            "error_y": {
             "color": "#2a3f5f"
            },
            "marker": {
             "line": {
              "color": "#E5ECF6",
              "width": 0.5
             },
             "pattern": {
              "fillmode": "overlay",
              "size": 10,
              "solidity": 0.2
             }
            },
            "type": "bar"
           }
          ],
          "barpolar": [
           {
            "marker": {
             "line": {
              "color": "#E5ECF6",
              "width": 0.5
             },
             "pattern": {
              "fillmode": "overlay",
              "size": 10,
              "solidity": 0.2
             }
            },
            "type": "barpolar"
           }
          ],
          "carpet": [
           {
            "aaxis": {
             "endlinecolor": "#2a3f5f",
             "gridcolor": "white",
             "linecolor": "white",
             "minorgridcolor": "white",
             "startlinecolor": "#2a3f5f"
            },
            "baxis": {
             "endlinecolor": "#2a3f5f",
             "gridcolor": "white",
             "linecolor": "white",
             "minorgridcolor": "white",
             "startlinecolor": "#2a3f5f"
            },
            "type": "carpet"
           }
          ],
          "choropleth": [
           {
            "colorbar": {
             "outlinewidth": 0,
             "ticks": ""
            },
            "type": "choropleth"
           }
          ],
          "contour": [
           {
            "colorbar": {
             "outlinewidth": 0,
             "ticks": ""
            },
            "colorscale": [
             [
              0,
              "#0d0887"
             ],
             [
              0.1111111111111111,
              "#46039f"
             ],
             [
              0.2222222222222222,
              "#7201a8"
             ],
             [
              0.3333333333333333,
              "#9c179e"
             ],
             [
              0.4444444444444444,
              "#bd3786"
             ],
             [
              0.5555555555555556,
              "#d8576b"
             ],
             [
              0.6666666666666666,
              "#ed7953"
             ],
             [
              0.7777777777777778,
              "#fb9f3a"
             ],
             [
              0.8888888888888888,
              "#fdca26"
             ],
             [
              1,
              "#f0f921"
             ]
            ],
            "type": "contour"
           }
          ],
          "contourcarpet": [
           {
            "colorbar": {
             "outlinewidth": 0,
             "ticks": ""
            },
            "type": "contourcarpet"
           }
          ],
          "heatmap": [
           {
            "colorbar": {
             "outlinewidth": 0,
             "ticks": ""
            },
            "colorscale": [
             [
              0,
              "#0d0887"
             ],
             [
              0.1111111111111111,
              "#46039f"
             ],
             [
              0.2222222222222222,
              "#7201a8"
             ],
             [
              0.3333333333333333,
              "#9c179e"
             ],
             [
              0.4444444444444444,
              "#bd3786"
             ],
             [
              0.5555555555555556,
              "#d8576b"
             ],
             [
              0.6666666666666666,
              "#ed7953"
             ],
             [
              0.7777777777777778,
              "#fb9f3a"
             ],
             [
              0.8888888888888888,
              "#fdca26"
             ],
             [
              1,
              "#f0f921"
             ]
            ],
            "type": "heatmap"
           }
          ],
          "histogram": [
           {
            "marker": {
             "pattern": {
              "fillmode": "overlay",
              "size": 10,
              "solidity": 0.2
             }
            },
            "type": "histogram"
           }
          ],
          "histogram2d": [
           {
            "colorbar": {
             "outlinewidth": 0,
             "ticks": ""
            },
            "colorscale": [
             [
              0,
              "#0d0887"
             ],
             [
              0.1111111111111111,
              "#46039f"
             ],
             [
              0.2222222222222222,
              "#7201a8"
             ],
             [
              0.3333333333333333,
              "#9c179e"
             ],
             [
              0.4444444444444444,
              "#bd3786"
             ],
             [
              0.5555555555555556,
              "#d8576b"
             ],
             [
              0.6666666666666666,
              "#ed7953"
             ],
             [
              0.7777777777777778,
              "#fb9f3a"
             ],
             [
              0.8888888888888888,
              "#fdca26"
             ],
             [
              1,
              "#f0f921"
             ]
            ],
            "type": "histogram2d"
           }
          ],
          "histogram2dcontour": [
           {
            "colorbar": {
             "outlinewidth": 0,
             "ticks": ""
            },
            "colorscale": [
             [
              0,
              "#0d0887"
             ],
             [
              0.1111111111111111,
              "#46039f"
             ],
             [
              0.2222222222222222,
              "#7201a8"
             ],
             [
              0.3333333333333333,
              "#9c179e"
             ],
             [
              0.4444444444444444,
              "#bd3786"
             ],
             [
              0.5555555555555556,
              "#d8576b"
             ],
             [
              0.6666666666666666,
              "#ed7953"
             ],
             [
              0.7777777777777778,
              "#fb9f3a"
             ],
             [
              0.8888888888888888,
              "#fdca26"
             ],
             [
              1,
              "#f0f921"
             ]
            ],
            "type": "histogram2dcontour"
           }
          ],
          "mesh3d": [
           {
            "colorbar": {
             "outlinewidth": 0,
             "ticks": ""
            },
            "type": "mesh3d"
           }
          ],
          "parcoords": [
           {
            "line": {
             "colorbar": {
              "outlinewidth": 0,
              "ticks": ""
             }
            },
            "type": "parcoords"
           }
          ],
          "pie": [
           {
            "automargin": true,
            "type": "pie"
           }
          ],
          "scatter": [
           {
            "fillpattern": {
             "fillmode": "overlay",
             "size": 10,
             "solidity": 0.2
            },
            "type": "scatter"
           }
          ],
          "scatter3d": [
           {
            "line": {
             "colorbar": {
              "outlinewidth": 0,
              "ticks": ""
             }
            },
            "marker": {
             "colorbar": {
              "outlinewidth": 0,
              "ticks": ""
             }
            },
            "type": "scatter3d"
           }
          ],
          "scattercarpet": [
           {
            "marker": {
             "colorbar": {
              "outlinewidth": 0,
              "ticks": ""
             }
            },
            "type": "scattercarpet"
           }
          ],
          "scattergeo": [
           {
            "marker": {
             "colorbar": {
              "outlinewidth": 0,
              "ticks": ""
             }
            },
            "type": "scattergeo"
           }
          ],
          "scattergl": [
           {
            "marker": {
             "colorbar": {
              "outlinewidth": 0,
              "ticks": ""
             }
            },
            "type": "scattergl"
           }
          ],
          "scattermap": [
           {
            "marker": {
             "colorbar": {
              "outlinewidth": 0,
              "ticks": ""
             }
            },
            "type": "scattermap"
           }
          ],
          "scattermapbox": [
           {
            "marker": {
             "colorbar": {
              "outlinewidth": 0,
              "ticks": ""
             }
            },
            "type": "scattermapbox"
           }
          ],
          "scatterpolar": [
           {
            "marker": {
             "colorbar": {
              "outlinewidth": 0,
              "ticks": ""
             }
            },
            "type": "scatterpolar"
           }
          ],
          "scatterpolargl": [
           {
            "marker": {
             "colorbar": {
              "outlinewidth": 0,
              "ticks": ""
             }
            },
            "type": "scatterpolargl"
           }
          ],
          "scatterternary": [
           {
            "marker": {
             "colorbar": {
              "outlinewidth": 0,
              "ticks": ""
             }
            },
            "type": "scatterternary"
           }
          ],
          "surface": [
           {
            "colorbar": {
             "outlinewidth": 0,
             "ticks": ""
            },
            "colorscale": [
             [
              0,
              "#0d0887"
             ],
             [
              0.1111111111111111,
              "#46039f"
             ],
             [
              0.2222222222222222,
              "#7201a8"
             ],
             [
              0.3333333333333333,
              "#9c179e"
             ],
             [
              0.4444444444444444,
              "#bd3786"
             ],
             [
              0.5555555555555556,
              "#d8576b"
             ],
             [
              0.6666666666666666,
              "#ed7953"
             ],
             [
              0.7777777777777778,
              "#fb9f3a"
             ],
             [
              0.8888888888888888,
              "#fdca26"
             ],
             [
              1,
              "#f0f921"
             ]
            ],
            "type": "surface"
           }
          ],
          "table": [
           {
            "cells": {
             "fill": {
              "color": "#EBF0F8"
             },
             "line": {
              "color": "white"
             }
            },
            "header": {
             "fill": {
              "color": "#C8D4E3"
             },
             "line": {
              "color": "white"
             }
            },
            "type": "table"
           }
          ]
         },
         "layout": {
          "annotationdefaults": {
           "arrowcolor": "#2a3f5f",
           "arrowhead": 0,
           "arrowwidth": 1
          },
          "autotypenumbers": "strict",
          "coloraxis": {
           "colorbar": {
            "outlinewidth": 0,
            "ticks": ""
           }
          },
          "colorscale": {
           "diverging": [
            [
             0,
             "#8e0152"
            ],
            [
             0.1,
             "#c51b7d"
            ],
            [
             0.2,
             "#de77ae"
            ],
            [
             0.3,
             "#f1b6da"
            ],
            [
             0.4,
             "#fde0ef"
            ],
            [
             0.5,
             "#f7f7f7"
            ],
            [
             0.6,
             "#e6f5d0"
            ],
            [
             0.7,
             "#b8e186"
            ],
            [
             0.8,
             "#7fbc41"
            ],
            [
             0.9,
             "#4d9221"
            ],
            [
             1,
             "#276419"
            ]
           ],
           "sequential": [
            [
             0,
             "#0d0887"
            ],
            [
             0.1111111111111111,
             "#46039f"
            ],
            [
             0.2222222222222222,
             "#7201a8"
            ],
            [
             0.3333333333333333,
             "#9c179e"
            ],
            [
             0.4444444444444444,
             "#bd3786"
            ],
            [
             0.5555555555555556,
             "#d8576b"
            ],
            [
             0.6666666666666666,
             "#ed7953"
            ],
            [
             0.7777777777777778,
             "#fb9f3a"
            ],
            [
             0.8888888888888888,
             "#fdca26"
            ],
            [
             1,
             "#f0f921"
            ]
           ],
           "sequentialminus": [
            [
             0,
             "#0d0887"
            ],
            [
             0.1111111111111111,
             "#46039f"
            ],
            [
             0.2222222222222222,
             "#7201a8"
            ],
            [
             0.3333333333333333,
             "#9c179e"
            ],
            [
             0.4444444444444444,
             "#bd3786"
            ],
            [
             0.5555555555555556,
             "#d8576b"
            ],
            [
             0.6666666666666666,
             "#ed7953"
            ],
            [
             0.7777777777777778,
             "#fb9f3a"
            ],
            [
             0.8888888888888888,
             "#fdca26"
            ],
            [
             1,
             "#f0f921"
            ]
           ]
          },
          "colorway": [
           "#636efa",
           "#EF553B",
           "#00cc96",
           "#ab63fa",
           "#FFA15A",
           "#19d3f3",
           "#FF6692",
           "#B6E880",
           "#FF97FF",
           "#FECB52"
          ],
          "font": {
           "color": "#2a3f5f"
          },
          "geo": {
           "bgcolor": "white",
           "lakecolor": "white",
           "landcolor": "#E5ECF6",
           "showlakes": true,
           "showland": true,
           "subunitcolor": "white"
          },
          "hoverlabel": {
           "align": "left"
          },
          "hovermode": "closest",
          "mapbox": {
           "style": "light"
          },
          "paper_bgcolor": "white",
          "plot_bgcolor": "#E5ECF6",
          "polar": {
           "angularaxis": {
            "gridcolor": "white",
            "linecolor": "white",
            "ticks": ""
           },
           "bgcolor": "#E5ECF6",
           "radialaxis": {
            "gridcolor": "white",
            "linecolor": "white",
            "ticks": ""
           }
          },
          "scene": {
           "xaxis": {
            "backgroundcolor": "#E5ECF6",
            "gridcolor": "white",
            "gridwidth": 2,
            "linecolor": "white",
            "showbackground": true,
            "ticks": "",
            "zerolinecolor": "white"
           },
           "yaxis": {
            "backgroundcolor": "#E5ECF6",
            "gridcolor": "white",
            "gridwidth": 2,
            "linecolor": "white",
            "showbackground": true,
            "ticks": "",
            "zerolinecolor": "white"
           },
           "zaxis": {
            "backgroundcolor": "#E5ECF6",
            "gridcolor": "white",
            "gridwidth": 2,
            "linecolor": "white",
            "showbackground": true,
            "ticks": "",
            "zerolinecolor": "white"
           }
          },
          "shapedefaults": {
           "line": {
            "color": "#2a3f5f"
           }
          },
          "ternary": {
           "aaxis": {
            "gridcolor": "white",
            "linecolor": "white",
            "ticks": ""
           },
           "baxis": {
            "gridcolor": "white",
            "linecolor": "white",
            "ticks": ""
           },
           "bgcolor": "#E5ECF6",
           "caxis": {
            "gridcolor": "white",
            "linecolor": "white",
            "ticks": ""
           }
          },
          "title": {
           "x": 0.05
          },
          "xaxis": {
           "automargin": true,
           "gridcolor": "white",
           "linecolor": "white",
           "ticks": "",
           "title": {
            "standoff": 15
           },
           "zerolinecolor": "white",
           "zerolinewidth": 2
          },
          "yaxis": {
           "automargin": true,
           "gridcolor": "white",
           "linecolor": "white",
           "ticks": "",
           "title": {
            "standoff": 15
           },
           "zerolinecolor": "white",
           "zerolinewidth": 2
          }
         }
        },
        "title": {
         "text": "Total World Energy Consumption"
        },
        "width": 1000,
        "xaxis": {
         "anchor": "y",
         "domain": [
          0,
          1
         ],
         "title": {
          "text": "Year"
         }
        },
        "yaxis": {
         "anchor": "x",
         "domain": [
          0,
          1
         ],
         "title": {
          "text": "value"
         }
        }
       }
      }
     },
     "metadata": {},
     "output_type": "display_data"
    }
   ],
   "source": [
    "# Plotting individual charts to analyze the patterns - World Energy Consumption\n",
    "fig = px.line(world, x='Year', y=['Consumption'], color_discrete_sequence=['blue'], title=\"Total World Energy Consumption\", height=500, width=1000)\n",
    "fig.show()"
   ]
  },
  {
   "cell_type": "code",
   "execution_count": 52,
   "metadata": {
    "id": "ZNrd6Zx_GIEl"
   },
   "outputs": [
    {
     "data": {
      "image/png": "[encoded data removed]",
      "text/plain": [
       "<Figure size 1000x500 with 4 Axes>"
      ]
     },
     "metadata": {},
     "output_type": "display_data"
    }
   ],
   "source": [
    "# histograms\n",
    "df.hist(sharex=False, sharey=False, xlabelsize=1, ylabelsize=1, figsize=(10,5))\n",
    "\n",
    "pyplot.show()"
   ]
  },
  {
   "cell_type": "code",
   "execution_count": 53,
   "metadata": {
    "id": "zrtBNAHhGIEl"
   },
   "outputs": [
    {
     "data": {
      "image/png": "[encoded data removed]",
      "text/plain": [
       "<Figure size 1800x1500 with 16 Axes>"
      ]
     },
     "metadata": {},
     "output_type": "display_data"
    }
   ],
   "source": [
    "# density\n",
    "df.plot(kind='density', subplots=True, layout=(4,4), sharex=False, legend=True, fontsize=1, figsize=(18,15))\n",
    "pyplot.show()"
   ]
  },
  {
   "cell_type": "code",
   "execution_count": 54,
   "metadata": {
    "id": "ygztB9X6GIEl"
   },
   "outputs": [
    {
     "data": {
      "image/png": "[encoded data removed]",
      "text/plain": [
       "<Figure size 2000x1500 with 16 Axes>"
      ]
     },
     "metadata": {},
     "output_type": "display_data"
    }
   ],
   "source": [
    "#Box and Whisker Plots\n",
    "df.plot(kind='box', subplots=True, layout=(4,4), sharex=False, sharey=False, figsize=(20,15))\n",
    "pyplot.show()"
   ]
  },
  {
   "cell_type": "code",
   "execution_count": 55,
   "metadata": {
    "id": "z-23Jch6GIEm"
   },
   "outputs": [
    {
     "data": {
      "text/plain": [
       "<Axes: title={'center': 'Correlation Matrix'}>"
      ]
     },
     "execution_count": 55,
     "metadata": {},
     "output_type": "execute_result"
    },
    {
     "data": {
      "image/png": "[encoded data removed]",
      "text/plain": [
       "<Figure size 800x800 with 2 Axes>"
      ]
     },
     "metadata": {},
     "output_type": "display_data"
    }
   ],
   "source": [
    "# correlation\n",
    "correlation = df.corr()\n",
    "pyplot.figure(figsize=(8,8))\n",
    "pyplot.title('Correlation Matrix')\n",
    "sns.heatmap(correlation, vmax=1, square=True,annot=True,cmap='cubehelix')"
   ]
  },
  {
   "cell_type": "code",
   "execution_count": 56,
   "metadata": {
    "id": "puMikzehGIEm"
   },
   "outputs": [
    {
     "data": {
      "text/plain": [
       "<Figure size 1200x1200 with 0 Axes>"
      ]
     },
     "metadata": {},
     "output_type": "display_data"
    },
    {
     "data": {
      "image/png": "[encoded data removed]",
      "text/plain": [
       "<Figure size 1200x1200 with 9 Axes>"
      ]
     },
     "metadata": {},
     "output_type": "display_data"
    }
   ],
   "source": [
    "# Scatterplot Matrix\n",
    "from pandas.plotting import scatter_matrix\n",
    "pyplot.figure(figsize=(12,12))\n",
    "scatter_matrix(df,figsize=(12,12))\n",
    "pyplot.show()"
   ]
  },
  {
   "cell_type": "markdown",
   "metadata": {
    "id": "fl3NdtAVGIEm"
   },
   "source": [
    "<a id='2.3'></a>\n",
    "## 3.3. Time Series Analysis"
   ]
  },
  {
   "cell_type": "markdown",
   "metadata": {
    "id": "x3_LDP4-GIEm"
   },
   "source": [
    "Time series broken down into different time series comonent"
   ]
  },
  {
   "cell_type": "code",
   "execution_count": 57,
   "metadata": {
    "id": "Lpf7QX9PGIEm"
   },
   "outputs": [
    {
     "data": {
      "image/png": "[encoded data removed]",
      "text/plain": [
       "<Figure size 1500x800 with 4 Axes>"
      ]
     },
     "metadata": {},
     "output_type": "display_data"
    }
   ],
   "source": [
    "Y= crypto_datacenter[\"Total Consumption\"]\n",
    "res = sm.tsa.seasonal_decompose(Y, period=1)\n",
    "fig = res.plot()\n",
    "fig.set_figheight(8)\n",
    "fig.set_figwidth(15)\n",
    "pyplot.show()"
   ]
  },
  {
   "cell_type": "markdown",
   "metadata": {
    "id": "HIUK-fKsGIEn"
   },
   "source": [
    "<a id='3'></a>\n",
    "## 4. Data Preparation"
   ]
  },
  {
   "cell_type": "markdown",
   "metadata": {
    "id": "xVFgCAuyGIEn"
   },
   "source": [
    "<a id='3.1'></a>\n",
    "## 4.1. Data Cleaning\n",
    "Check for the NAs in the rows, either drop them or fill them with the mean of the column"
   ]
  },
  {
   "cell_type": "code",
   "execution_count": 58,
   "metadata": {
    "id": "Z7N98xlHGIEn"
   },
   "outputs": [
    {
     "name": "stdout",
     "output_type": "stream",
     "text": [
      "Null Values = False\n",
      "Null Values = False\n"
     ]
    }
   ],
   "source": [
    "#Checking for any null values and removing the null values'''\n",
    "print('Null Values =',crypto_datacenter.isnull().values.any())\n",
    "print('Null Values =',world.isnull().values.any())"
   ]
  },
  {
   "cell_type": "markdown",
   "metadata": {
    "id": "TrFcs1K5GIEn"
   },
   "source": [
    "Given that there are null values drop the rown contianing the null values."
   ]
  },
  {
   "cell_type": "code",
   "execution_count": 59,
   "metadata": {
    "id": "QRKnHI0UGIEn"
   },
   "outputs": [],
   "source": [
    "# Drop the rows containing NA\n",
    "#dataset.dropna(axis=0)\n",
    "# Fill na with 0\n",
    "#dataset.fillna('0')\n",
    "\n",
    "#Filling the NAs with the mean of the column.\n",
    "#dataset['col'] = dataset['col'].fillna(dataset['col'].mean())"
   ]
  },
  {
   "cell_type": "markdown",
   "metadata": {
    "id": "253we6nkGIEn"
   },
   "source": [
    "<a id='3.3'></a>\n",
    "## 4.3. Spliting train and validation set"
   ]
  },
  {
   "cell_type": "code",
   "execution_count": 60,
   "metadata": {
    "id": "DsN4bMbjGIEo"
   },
   "outputs": [],
   "source": [
    "Ycd= crypto_datacenter['Total Consumption']\n",
    "Yw = world['Consumption']\n",
    "Xcd = crypto_datacenter.loc[:,crypto_datacenter.columns != 'Total Consumption']\n",
    "Xw = world.loc[:,world.columns != 'Consumption']"
   ]
  },
  {
   "cell_type": "markdown",
   "metadata": {
    "id": "rRjxPEfXGIEu"
   },
   "source": [
    "<a id='3.4'></a>\n",
    "## 4.4. Data Transformation"
   ]
  },
  {
   "cell_type": "markdown",
   "metadata": {
    "id": "F5PyfvtlGIEu"
   },
   "source": [
    "<a id='3.4.1'></a>\n",
    "### 4.4.1. Rescale Data\n",
    "When your data is comprised of attributes with varying scales, many machine learning algorithms\n",
    "can benefit from rescaling the attributes to all have the same scale. Often this is referred to\n",
    "as normalization and attributes are often rescaled into the range between 0 and 1."
   ]
  },
  {
   "cell_type": "code",
   "execution_count": 61,
   "metadata": {
    "id": "hwFjGSUzGIEu"
   },
   "outputs": [
    {
     "data": {
      "text/html": [
       "<div>\n",
       "<style scoped>\n",
       "    .dataframe tbody tr th:only-of-type {\n",
       "        vertical-align: middle;\n",
       "    }\n",
       "\n",
       "    .dataframe tbody tr th {\n",
       "        vertical-align: top;\n",
       "    }\n",
       "\n",
       "    .dataframe thead th {\n",
       "        text-align: right;\n",
       "    }\n",
       "</style>\n",
       "<table border=\"1\" class=\"dataframe\">\n",
       "  <thead>\n",
       "    <tr style=\"text-align: right;\">\n",
       "      <th></th>\n",
       "      <th>0</th>\n",
       "    </tr>\n",
       "  </thead>\n",
       "  <tbody>\n",
       "    <tr>\n",
       "      <th>0</th>\n",
       "      <td>0.000</td>\n",
       "    </tr>\n",
       "    <tr>\n",
       "      <th>1</th>\n",
       "      <td>0.020</td>\n",
       "    </tr>\n",
       "    <tr>\n",
       "      <th>2</th>\n",
       "      <td>0.039</td>\n",
       "    </tr>\n",
       "    <tr>\n",
       "      <th>3</th>\n",
       "      <td>0.059</td>\n",
       "    </tr>\n",
       "    <tr>\n",
       "      <th>4</th>\n",
       "      <td>0.078</td>\n",
       "    </tr>\n",
       "  </tbody>\n",
       "</table>\n",
       "</div>"
      ],
      "text/plain": [
       "       0\n",
       "0  0.000\n",
       "1  0.020\n",
       "2  0.039\n",
       "3  0.059\n",
       "4  0.078"
      ]
     },
     "execution_count": 61,
     "metadata": {},
     "output_type": "execute_result"
    }
   ],
   "source": [
    "from sklearn.preprocessing import MinMaxScaler\n",
    "scaler = MinMaxScaler(feature_range=(0, 1))\n",
    "rescaledXcd = pd.DataFrame(scaler.fit_transform(Xcd))\n",
    "rescaledXw = pd.DataFrame(scaler.fit_transform(Xw))\n",
    "# summarize transformed data\n",
    "rescaledXcd.head(5)\n",
    "rescaledXw.head(5)"
   ]
  },
  {
   "cell_type": "markdown",
   "metadata": {
    "id": "6TrdCmxKGIEv"
   },
   "source": [
    "<a id='3.4.2'></a>\n",
    "### 4.4.2. Standardize Data\n",
    "Standardization is a useful technique to transform attributes with a Gaussian distribution and\n",
    "differing means and standard deviations to a standard Gaussian distribution with a mean of\n",
    "0 and a standard deviation of 1."
   ]
  },
  {
   "cell_type": "code",
   "execution_count": 62,
   "metadata": {
    "id": "4c1MgbiDGIEv"
   },
   "outputs": [
    {
     "data": {
      "text/html": [
       "<div>\n",
       "<style scoped>\n",
       "    .dataframe tbody tr th:only-of-type {\n",
       "        vertical-align: middle;\n",
       "    }\n",
       "\n",
       "    .dataframe tbody tr th {\n",
       "        vertical-align: top;\n",
       "    }\n",
       "\n",
       "    .dataframe thead th {\n",
       "        text-align: right;\n",
       "    }\n",
       "</style>\n",
       "<table border=\"1\" class=\"dataframe\">\n",
       "  <thead>\n",
       "    <tr style=\"text-align: right;\">\n",
       "      <th></th>\n",
       "      <th>0</th>\n",
       "    </tr>\n",
       "  </thead>\n",
       "  <tbody>\n",
       "    <tr>\n",
       "      <th>0</th>\n",
       "      <td>-1.699</td>\n",
       "    </tr>\n",
       "    <tr>\n",
       "      <th>1</th>\n",
       "      <td>-1.632</td>\n",
       "    </tr>\n",
       "    <tr>\n",
       "      <th>2</th>\n",
       "      <td>-1.566</td>\n",
       "    </tr>\n",
       "    <tr>\n",
       "      <th>3</th>\n",
       "      <td>-1.499</td>\n",
       "    </tr>\n",
       "    <tr>\n",
       "      <th>4</th>\n",
       "      <td>-1.433</td>\n",
       "    </tr>\n",
       "  </tbody>\n",
       "</table>\n",
       "</div>"
      ],
      "text/plain": [
       "       0\n",
       "0 -1.699\n",
       "1 -1.632\n",
       "2 -1.566\n",
       "3 -1.499\n",
       "4 -1.433"
      ]
     },
     "execution_count": 62,
     "metadata": {},
     "output_type": "execute_result"
    }
   ],
   "source": [
    "from sklearn.preprocessing import StandardScaler\n",
    "scaler_cd = StandardScaler().fit(Xcd)\n",
    "scaler_w = StandardScaler().fit(Xw)\n",
    "StandardisedX_cd = pd.DataFrame(scaler_cd.fit_transform(Xcd))\n",
    "StandardisedX_w = pd.DataFrame(scaler_w.fit_transform(Xw))\n",
    "# summarize transformed data\n",
    "StandardisedX_cd.head(5)\n",
    "StandardisedX_w.head(5)"
   ]
  },
  {
   "cell_type": "markdown",
   "metadata": {
    "id": "iTMVqBwKGIEv"
   },
   "source": [
    "<a id='3.4.3'></a>\n",
    "### 4.4.1. Normalize Data\n",
    "Normalizing in scikit-learn refers to rescaling each observation (row) to have a length of 1 (called\n",
    "a unit norm or a vector with the length of 1 in linear algebra)."
   ]
  },
  {
   "cell_type": "code",
   "execution_count": 63,
   "metadata": {
    "id": "-5UyiH8lGIEv"
   },
   "outputs": [
    {
     "data": {
      "text/html": [
       "<div>\n",
       "<style scoped>\n",
       "    .dataframe tbody tr th:only-of-type {\n",
       "        vertical-align: middle;\n",
       "    }\n",
       "\n",
       "    .dataframe tbody tr th {\n",
       "        vertical-align: top;\n",
       "    }\n",
       "\n",
       "    .dataframe thead th {\n",
       "        text-align: right;\n",
       "    }\n",
       "</style>\n",
       "<table border=\"1\" class=\"dataframe\">\n",
       "  <thead>\n",
       "    <tr style=\"text-align: right;\">\n",
       "      <th></th>\n",
       "      <th>0</th>\n",
       "    </tr>\n",
       "  </thead>\n",
       "  <tbody>\n",
       "    <tr>\n",
       "      <th>0</th>\n",
       "      <td>1.0</td>\n",
       "    </tr>\n",
       "    <tr>\n",
       "      <th>1</th>\n",
       "      <td>1.0</td>\n",
       "    </tr>\n",
       "    <tr>\n",
       "      <th>2</th>\n",
       "      <td>1.0</td>\n",
       "    </tr>\n",
       "    <tr>\n",
       "      <th>3</th>\n",
       "      <td>1.0</td>\n",
       "    </tr>\n",
       "    <tr>\n",
       "      <th>4</th>\n",
       "      <td>1.0</td>\n",
       "    </tr>\n",
       "  </tbody>\n",
       "</table>\n",
       "</div>"
      ],
      "text/plain": [
       "     0\n",
       "0  1.0\n",
       "1  1.0\n",
       "2  1.0\n",
       "3  1.0\n",
       "4  1.0"
      ]
     },
     "execution_count": 63,
     "metadata": {},
     "output_type": "execute_result"
    }
   ],
   "source": [
    "from sklearn.preprocessing import Normalizer\n",
    "scaler_cd = Normalizer().fit(Xcd)\n",
    "scaler_w = Normalizer().fit(Xw)\n",
    "NormalizedX_cd = pd.DataFrame(scaler_cd.fit_transform(Xcd))\n",
    "NormalizedX_w = pd.DataFrame(scaler_w.fit_transform(Xw))\n",
    "# summarize transformed data\n",
    "NormalizedX_cd.head(5)\n",
    "NormalizedX_w.head(5)"
   ]
  },
  {
   "cell_type": "markdown",
   "metadata": {
    "id": "_rO8K5S6GIEv"
   },
   "source": [
    "<a id='4'></a>\n",
    "# 5. Evaluate Algorithms and Models"
   ]
  },
  {
   "cell_type": "markdown",
   "metadata": {
    "id": "0PT8GYc2GIEw"
   },
   "source": [
    "<a id='4.1'></a>\n",
    "## 5.1. Train Test Split"
   ]
  },
  {
   "cell_type": "code",
   "execution_count": 64,
   "metadata": {
    "id": "zGOsUqrXGIEw"
   },
   "outputs": [],
   "source": [
    "# split out validation dataset for the end\n",
    "\n",
    "validation_size = 0.2\n",
    "\n",
    "#In case the data is not dependent on the time series, then train and test split randomly\n",
    "seed = 7\n",
    "# X_train, X_validation, Y_train, Y_validation = train_test_split(X, Y, test_size=validation_size, random_state=seed)\n",
    "\n",
    "#In case the data is not dependent on the time series, then train and test split should be done based on sequential sample\n",
    "#This can be done by selecting an arbitrary split point in the ordered list of observations and creating two new datasets.\n",
    "\n",
    "train_size_cd = int(len(Xcd) * (1-validation_size))\n",
    "train_size_w = int(len(Xw) * (1-validation_size))\n",
    "X_train_cd, X_validation_cd = Xcd[0:train_size_cd], Xcd[train_size_cd:len(Xcd)]\n",
    "X_train_w, X_validation_w = Xw[0:train_size_w], Xw[train_size_w:len(Xw)]\n",
    "Y_train_w, Y_validation_w = Yw[0:train_size_w], Yw[train_size_w:len(Xw)]\n",
    "Y_train_cd, Y_validation_cd = Ycd[0:train_size_cd], Ycd[train_size_cd:len(Xcd)]"
   ]
  },
  {
   "cell_type": "markdown",
   "metadata": {
    "id": "beMUbDgFGIEw"
   },
   "source": [
    "<a id='4.2'></a>\n",
    "## 5.2. Test Options and Evaluation Metrics\n"
   ]
  },
  {
   "cell_type": "code",
   "execution_count": 65,
   "metadata": {
    "id": "aHs2HYuIGIEw"
   },
   "outputs": [],
   "source": [
    "# test options for regression\n",
    "num_folds = 8\n",
    "scoring = 'neg_mean_squared_error'\n",
    "#scoring ='neg_mean_absolute_error'\n",
    "#scoring = 'r2'"
   ]
  },
  {
   "cell_type": "markdown",
   "metadata": {
    "id": "RRmoSNq-GIEx"
   },
   "source": [
    "<a id='4.3'></a>\n",
    "## 5.3. Compare Models and Algorithms"
   ]
  },
  {
   "cell_type": "markdown",
   "metadata": {
    "id": "CeHsTD8dGIEx"
   },
   "source": [
    "<a id='4.3.1'></a>\n",
    "### 5.3.1. Common Models"
   ]
  },
  {
   "cell_type": "code",
   "execution_count": 66,
   "metadata": {
    "id": "oF_MiehQGIEy"
   },
   "outputs": [],
   "source": [
    "# spot check the algorithms\n",
    "models = []\n",
    "models.append(('LR', LinearRegression()))\n",
    "models.append(('LASSO', Lasso()))\n",
    "models.append(('EN', ElasticNet()))\n",
    "models.append(('KNN', KNeighborsRegressor()))\n",
    "models.append(('CART', DecisionTreeRegressor()))\n",
    "models.append(('SVR', SVR()))\n",
    "#Neural Network\n",
    "#models.append(('MLP', MLPRegressor()))"
   ]
  },
  {
   "cell_type": "markdown",
   "metadata": {
    "id": "PQkzqVE2GIEy"
   },
   "source": [
    "<a id='4.3.2'></a>\n",
    "### 5.3.2. Ensemble Models"
   ]
  },
  {
   "cell_type": "code",
   "execution_count": 67,
   "metadata": {
    "id": "nbUvQgj3GIEy"
   },
   "outputs": [],
   "source": [
    "#Ensable Models\n",
    "# Boosting methods\n",
    "models.append(('ABR', AdaBoostRegressor()))\n",
    "models.append(('GBR', GradientBoostingRegressor()))\n",
    "# Bagging methods\n",
    "models.append(('RFR', RandomForestRegressor()))\n",
    "models.append(('ETR', ExtraTreesRegressor()))"
   ]
  },
  {
   "cell_type": "markdown",
   "metadata": {
    "id": "vRP1jC-lGIEy"
   },
   "source": [
    "<a id='4.3.3'></a>\n",
    "### 5.3.3. Deep Learning Model-NN Regressor"
   ]
  },
  {
   "cell_type": "code",
   "execution_count": 68,
   "metadata": {
    "id": "bj1O8ZYSGIEz"
   },
   "outputs": [],
   "source": [
    "#Running deep learning models and performing cross validation takes time\n",
    "#Set the following Flag to 0 if the Deep LEarning Models Flag has to be disabled\n",
    "EnableDeepLearningRegreesorFlag = 0\n",
    "\n",
    "def create_model(neurons=12, activation='relu', learn_rate = 0.01, momentum=0):\n",
    "        # create model\n",
    "        model = Sequential()\n",
    "        model.add(Dense(neurons, input_dim=X_train.shape[1], activation=activation))\n",
    "        #The number of hidden layers can be increased\n",
    "        model.add(Dense(2, activation=activation))\n",
    "        # Final output layer\n",
    "        model.add(Dense(1, kernel_initializer='normal'))\n",
    "        # Compile model\n",
    "        optimizer = SGD(lr=learn_rate, momentum=momentum)\n",
    "        model.compile(loss='mean_squared_error', optimizer='adam')\n",
    "        return model"
   ]
  },
  {
   "cell_type": "code",
   "execution_count": 69,
   "metadata": {
    "id": "A6fvdqKqGIEz"
   },
   "outputs": [],
   "source": [
    "#Add Deep Learning Regressor\n",
    "if ( EnableDeepLearningRegreesorFlag == 1):\n",
    "    models.append(('DNN', KerasRegressor(build_fn=create_model, epochs=100, batch_size=100, verbose=1)))\n"
   ]
  },
  {
   "cell_type": "markdown",
   "metadata": {
    "id": "Ex3TDhwDGIEz"
   },
   "source": [
    "### K-folds cross validation - Crypto and AI"
   ]
  },
  {
   "cell_type": "code",
   "execution_count": 70,
   "metadata": {
    "id": "5DqCiuY2GIEz"
   },
   "outputs": [
    {
     "name": "stdout",
     "output_type": "stream",
     "text": [
      "LR: 2045.759142 (2043.577665)\n",
      "LASSO: 2047.817592 (2058.909486)\n",
      "EN: 2015.989303 (2258.924847)\n",
      "KNN: 3735.929711 (6542.082319)\n",
      "CART: 1508.019669 (2614.271793)\n",
      "SVR: 7090.946448 (10658.203324)\n",
      "ABR: 1508.451870 (2614.051425)\n",
      "GBR: 1508.072556 (2614.360577)\n",
      "RFR: 1361.479976 (2543.382297)\n",
      "ETR: 855.618736 (1083.509051)\n"
     ]
    }
   ],
   "source": [
    "results_cd = []\n",
    "names_cd = []\n",
    "for name, model in models:\n",
    "    kfold = KFold(n_splits=num_folds, random_state=seed, shuffle=True)\n",
    "    #converted mean square error to positive. The lower the beter\n",
    "    cv_results_cd = -1* cross_val_score(model, X_train_cd, Y_train_cd, cv=kfold, scoring=scoring)\n",
    "    results_cd.append(cv_results_cd)\n",
    "    names_cd.append(name)\n",
    "    msg = \"%s: %f (%f)\" % (name, cv_results_cd.mean(), cv_results_cd.std())\n",
    "    print(msg)"
   ]
  },
  {
   "cell_type": "markdown",
   "metadata": {
    "id": "7qHx6n_KX6zZ"
   },
   "source": [
    "### K-folds cross validation - World"
   ]
  },
  {
   "cell_type": "code",
   "execution_count": 71,
   "metadata": {
    "id": "yYc1KUTAX6zb"
   },
   "outputs": [
    {
     "name": "stdout",
     "output_type": "stream",
     "text": [
      "LR: 8219516.370802 (4791118.779514)\n",
      "LASSO: 8219537.070031 (4791359.197577)\n",
      "EN: 8232554.819536 (4933873.467014)\n",
      "KNN: 4046363.454369 (3226062.064229)\n",
      "CART: 3517824.042877 (2089141.276680)\n",
      "SVR: 213684468.694785 (94270604.352911)\n",
      "ABR: 3963191.864063 (1791247.667143)\n",
      "GBR: 3515507.459284 (2081738.819932)\n",
      "RFR: 1771468.584649 (1198018.853376)\n",
      "ETR: 849406.512438 (599521.422200)\n"
     ]
    }
   ],
   "source": [
    "results_w = []\n",
    "names_w = []\n",
    "for name, model in models:\n",
    "    kfold = KFold(n_splits=num_folds, random_state=seed, shuffle=True)\n",
    "    #converted mean square error to positive. The lower the beter\n",
    "    cv_results_w = -1* cross_val_score(model, X_train_w, Y_train_w, cv=kfold, scoring=scoring)\n",
    "    results_w.append(cv_results_w)\n",
    "    names_w.append(name)\n",
    "    msg = \"%s: %f (%f)\" % (name, cv_results_w.mean(), cv_results_w.std())\n",
    "    print(msg)"
   ]
  },
  {
   "cell_type": "markdown",
   "metadata": {
    "id": "g1f1ci-HGIE0"
   },
   "source": [
    "### Algorithm comparison"
   ]
  },
  {
   "cell_type": "code",
   "execution_count": 72,
   "metadata": {
    "id": "qdpVJMAtGIE0"
   },
   "outputs": [
    {
     "data": {
      "image/png": "[encoded data removed]",
      "text/plain": [
       "<Figure size 1500x800 with 1 Axes>"
      ]
     },
     "metadata": {},
     "output_type": "display_data"
    }
   ],
   "source": [
    "# compare algorithms - Crypto and AI\n",
    "fig = pyplot.figure()\n",
    "fig.suptitle('Algorithm Comparison - Crypto and AI')\n",
    "ax = fig.add_subplot(111)\n",
    "pyplot.boxplot(results_cd)\n",
    "ax.set_xticklabels(names_cd)\n",
    "fig.set_size_inches(15,8)\n",
    "pyplot.show()"
   ]
  },
  {
   "cell_type": "markdown",
   "metadata": {
    "id": "00K_vEv3GIE0"
   },
   "source": [
    "The chart shows MSE. Lower the MSE, better is the model performance."
   ]
  },
  {
   "cell_type": "code",
   "execution_count": 73,
   "metadata": {
    "id": "hzCx0PlUG9MX"
   },
   "outputs": [
    {
     "data": {
      "image/png": "[encoded data removed]",
      "text/plain": [
       "<Figure size 1500x800 with 1 Axes>"
      ]
     },
     "metadata": {},
     "output_type": "display_data"
    }
   ],
   "source": [
    "# compare algorithms - World\n",
    "fig = pyplot.figure()\n",
    "fig.suptitle('Algorithm Comparison - World')\n",
    "ax = fig.add_subplot(111)\n",
    "pyplot.boxplot(results_w)\n",
    "ax.set_xticklabels(names_w)\n",
    "fig.set_size_inches(15,8)\n",
    "pyplot.show()"
   ]
  },
  {
   "cell_type": "markdown",
   "metadata": {
    "id": "by3YNzAnGIE0"
   },
   "source": [
    "<a id='4.4'></a>\n",
    "## 5.4. Time Series based Models- ARIMA and LSTM"
   ]
  },
  {
   "cell_type": "markdown",
   "metadata": {
    "id": "NHY81AwxGIE0"
   },
   "source": [
    "<a id='4.4.1'></a>\n",
    "### 5.4.1 Time Series Model - ARIMA Model"
   ]
  },
  {
   "cell_type": "code",
   "execution_count": 74,
   "metadata": {
    "id": "CdBtyhOuGIE0"
   },
   "outputs": [],
   "source": [
    "#Preparing data for the ARIMAX Model, seperating endogeneous and exogenous variables\n",
    "# Crypto and AI\n",
    "X_train_ARIMA_cd = X_train_cd\n",
    "X_validation_ARIMA_cd =X_validation_cd\n",
    "tr_len_cd = len(X_train_ARIMA_cd)\n",
    "te_len_cd = len(X_validation_ARIMA_cd)\n",
    "to_len_cd = len(Xcd)\n",
    "#World\n",
    "X_train_ARIMA_w = X_train_w\n",
    "X_validation_ARIMA_w = X_validation_w\n",
    "tr_len_w = len(X_train_ARIMA_w)\n",
    "te_len_w = len(X_validation_ARIMA_w)\n",
    "to_len_w = len(Xw)"
   ]
  },
  {
   "cell_type": "code",
   "execution_count": 75,
   "metadata": {
    "id": "9qmE096jug6H"
   },
   "outputs": [
    {
     "name": "stdout",
     "output_type": "stream",
     "text": [
      "                               SARIMAX Results                                \n",
      "==============================================================================\n",
      "Dep. Variable:      Total Consumption   No. Observations:                    8\n",
      "Model:                 ARIMA(1, 0, 0)   Log Likelihood                 -38.010\n",
      "Date:                Thu, 07 Aug 2025   AIC                             84.019\n",
      "Time:                        22:51:54   BIC                             84.337\n",
      "Sample:                             0   HQIC                            81.876\n",
      "                                  - 8                                         \n",
      "Covariance Type:                  opg                                         \n",
      "==============================================================================\n",
      "                 coef    std err          z      P>|z|      [0.025      0.975]\n",
      "------------------------------------------------------------------------------\n",
      "const      -5.284e+04   1.36e+04     -3.880      0.000   -7.95e+04   -2.61e+04\n",
      "Year          26.3195      6.751      3.898      0.000      13.087      39.552\n",
      "ar.L1          0.5279      0.405      1.304      0.192      -0.265       1.321\n",
      "sigma2       723.1640    873.855      0.828      0.408    -989.561    2435.889\n",
      "===================================================================================\n",
      "Ljung-Box (L1) (Q):                   0.25   Jarque-Bera (JB):                 0.97\n",
      "Prob(Q):                              0.62   Prob(JB):                         0.62\n",
      "Heteroskedasticity (H):               2.79   Skew:                             0.35\n",
      "Prob(H) (two-sided):                  0.42   Kurtosis:                         1.45\n",
      "===================================================================================\n",
      "\n",
      "Warnings:\n",
      "[1] Covariance matrix calculated using the outer product of gradients (complex-step).\n"
     ]
    }
   ],
   "source": [
    "# ARIMA Crypto and AI\n",
    "from statsmodels.tsa.arima.model import ARIMA # Corrected import path\n",
    "# from statsmodels.tsa.statespace.sarimax import SARIMAX # Keep this if you need SARIMAX later\n",
    "\n",
    "from sklearn.metrics import mean_squared_error\n",
    "\n",
    "modelARIMA_cd = ARIMA(endog = Y_train_cd, exog = X_train_ARIMA_cd, order=(1,0,0)) # Note: order is a tuple\n",
    "# modelARIMA= SARIMAX(Y_train,order=(1,1,0),seasonal_order=(1,0,0,0),exog = X_train_ARIMA)\n",
    "\n",
    "model_fit_cd = modelARIMA_cd.fit()\n",
    "\n",
    "print(model_fit_cd.summary())"
   ]
  },
  {
   "cell_type": "code",
   "execution_count": 76,
   "metadata": {
    "id": "B7nE1g8gGIE1"
   },
   "outputs": [
    {
     "data": {
      "text/plain": [
       "7970.760155332744"
      ]
     },
     "execution_count": 76,
     "metadata": {},
     "output_type": "execute_result"
    }
   ],
   "source": [
    "error_Training_ARIMA_cd = mean_squared_error(Y_train_cd, model_fit_cd.fittedvalues)\n",
    "predicted_cd = model_fit_cd.predict(start = tr_len_cd -1 ,end = to_len_cd -1, exog = X_validation_ARIMA_cd)[1:]\n",
    "error_Test_ARIMA_cd = mean_squared_error(Y_validation_cd, predicted_cd)\n",
    "error_Test_ARIMA_cd"
   ]
  },
  {
   "cell_type": "code",
   "execution_count": 77,
   "metadata": {
    "id": "SmoTo4_oHvoj"
   },
   "outputs": [
    {
     "name": "stdout",
     "output_type": "stream",
     "text": [
      "                               SARIMAX Results                                \n",
      "==============================================================================\n",
      "Dep. Variable:            Consumption   No. Observations:                   41\n",
      "Model:                 ARIMA(1, 0, 0)   Log Likelihood                -351.988\n",
      "Date:                Thu, 07 Aug 2025   AIC                            711.977\n",
      "Time:                        22:51:54   BIC                            718.831\n",
      "Sample:                             0   HQIC                           714.473\n",
      "                                 - 41                                         \n",
      "Covariance Type:                  opg                                         \n",
      "==============================================================================\n",
      "                 coef    std err          z      P>|z|      [0.025      0.975]\n",
      "------------------------------------------------------------------------------\n",
      "const      -2.319e+06   3.12e+05     -7.441      0.000   -2.93e+06   -1.71e+06\n",
      "Year        1201.9453    155.739      7.718      0.000     896.702    1507.189\n",
      "ar.L1          0.9045      0.088     10.279      0.000       0.732       1.077\n",
      "sigma2      1.608e+06   3.59e+05      4.482      0.000    9.05e+05    2.31e+06\n",
      "===================================================================================\n",
      "Ljung-Box (L1) (Q):                   2.13   Jarque-Bera (JB):                 6.75\n",
      "Prob(Q):                              0.14   Prob(JB):                         0.03\n",
      "Heteroskedasticity (H):               2.24   Skew:                             0.78\n",
      "Prob(H) (two-sided):                  0.14   Kurtosis:                         4.23\n",
      "===================================================================================\n",
      "\n",
      "Warnings:\n",
      "[1] Covariance matrix calculated using the outer product of gradients (complex-step).\n"
     ]
    }
   ],
   "source": [
    "# ARIMA World\n",
    "from statsmodels.tsa.arima.model import ARIMA # Corrected import path\n",
    "# from statsmodels.tsa.statespace.sarimax import SARIMAX # Keep this if you need SARIMAX later\n",
    "\n",
    "from sklearn.metrics import mean_squared_error\n",
    "\n",
    "modelARIMA_w = ARIMA(endog=Y_train_w, exog=X_train_ARIMA_w, order=(1,0,0)) # Note: order is a tuple\n",
    "# modelARIMA= SARIMAX(Y_train,order=(1,1,0),seasonal_order=(1,0,0,0),exog = X_train_ARIMA)\n",
    "\n",
    "model_fit_w = modelARIMA_w.fit()\n",
    "\n",
    "print(model_fit_w.summary())"
   ]
  },
  {
   "cell_type": "code",
   "execution_count": 78,
   "metadata": {
    "id": "FqSffaGpHzGc"
   },
   "outputs": [
    {
     "data": {
      "text/plain": [
       "11629698.714743255"
      ]
     },
     "execution_count": 78,
     "metadata": {},
     "output_type": "execute_result"
    }
   ],
   "source": [
    "error_Training_ARIMA_w = mean_squared_error(Y_train_w, model_fit_w.fittedvalues)\n",
    "predicted_w = model_fit_w.predict(start = tr_len_w -1 ,end = to_len_w -1, exog = X_validation_ARIMA_w)[1:]\n",
    "error_Test_ARIMA_w = mean_squared_error(Y_validation_w,predicted_w)\n",
    "error_Test_ARIMA_w"
   ]
  },
  {
   "cell_type": "code",
   "execution_count": 79,
   "metadata": {
    "id": "n7jZSawIGIE1"
   },
   "outputs": [],
   "source": [
    "#Add Cross validation if possible\n",
    "# #model = build_model(_alpha=1.0, _l1_ratio=0.3)\n",
    "# from sklearn.model_selection import TimeSeriesSplit\n",
    "# tscv = TimeSeriesSplit(n_splits=5)\n",
    "# scores = cross_val_score(modelARIMA, X_train, Y_train, cv=tscv, scoring=scoring)"
   ]
  },
  {
   "cell_type": "markdown",
   "metadata": {
    "id": "rLxrosieGIE1"
   },
   "source": [
    "<a id='4.4.2'></a>\n",
    "### 5.4.2 LSTM Model"
   ]
  },
  {
   "cell_type": "markdown",
   "metadata": {
    "id": "NXjFtdThGIE2"
   },
   "source": [
    "The data needs to be in 3D format for the LSTM model. So, Performing the data transform."
   ]
  },
  {
   "cell_type": "code",
   "execution_count": 80,
   "metadata": {
    "id": "I3aFlkvXGIE2"
   },
   "outputs": [
    {
     "name": "stdout",
     "output_type": "stream",
     "text": [
      "(8, 1, 1) (8,) (3, 1, 1) (3,)\n"
     ]
    }
   ],
   "source": [
    "# LSTM training - Crypto and AI\n",
    "X_train_LSTM_cd, X_validation_LSTM_cd = np.array(X_train_cd), np.array(X_validation_cd)\n",
    "Y_train_LSTM_cd, Y_validation_LSTM_cd = np.array(Y_train_cd), np.array(Y_validation_cd)\n",
    "X_train_LSTM_cd = X_train_LSTM_cd.reshape((X_train_LSTM_cd.shape[0], 1, X_train_LSTM_cd.shape[1]))\n",
    "X_validation_LSTM_cd = X_validation_LSTM_cd.reshape((X_validation_LSTM_cd.shape[0], 1, X_validation_LSTM_cd.shape[1]))\n",
    "print(X_train_LSTM_cd.shape, Y_train_LSTM_cd.shape, X_validation_LSTM_cd.shape, Y_validation_LSTM_cd.shape)"
   ]
  },
  {
   "cell_type": "code",
   "execution_count": 81,
   "metadata": {
    "id": "4afFA7LseEyP"
   },
   "outputs": [
    {
     "name": "stdout",
     "output_type": "stream",
     "text": [
      "(41, 1, 1) (41,) (11, 1, 1) (11,)\n"
     ]
    }
   ],
   "source": [
    "# LSTM training - World\n",
    "X_train_LSTM_w, X_validation_LSTM_w = np.array(X_train_w), np.array(X_validation_w)\n",
    "Y_train_LSTM_w, Y_validation_LSTM_w = np.array(Y_train_w), np.array(Y_validation_w)\n",
    "X_train_LSTM_w = X_train_LSTM_w.reshape((X_train_LSTM_w.shape[0], 1, X_train_LSTM_w.shape[1]))\n",
    "X_validation_LSTM_w = X_validation_LSTM_w.reshape((X_validation_LSTM_w.shape[0], 1, X_validation_LSTM_w.shape[1]))\n",
    "print(X_train_LSTM_w.shape, Y_train_LSTM_w.shape, X_validation_LSTM_w.shape, Y_validation_LSTM_w.shape)"
   ]
  },
  {
   "cell_type": "code",
   "execution_count": 82,
   "metadata": {
    "id": "gzAoQa0UGIE2"
   },
   "outputs": [],
   "source": [
    "# design network - Crypto and AI\n",
    "from matplotlib import pyplot\n",
    "\n",
    "def create_LSTMmodel(neurons=12, learn_rate = 0.01, momentum=0.1):\n",
    "        # create model\n",
    "    model = Sequential()\n",
    "    model.add(LSTM(50, input_shape=(X_train_LSTM_cd.shape[1], X_train_LSTM_cd.shape[2])))\n",
    "    #More number of cells can be added if needed\n",
    "    model.add(Dense(1))\n",
    "    optimizer = SGD(learning_rate=learn_rate, momentum=0.1)\n",
    "    model.compile(loss='mse', optimizer='adam')\n",
    "    return model\n",
    "LSTMModel_cd = create_LSTMmodel(12, learn_rate = 0.01, momentum=0)\n",
    "LSTMModel_fit_cd = LSTMModel_cd.fit(X_train_LSTM_cd, Y_train_LSTM_cd, validation_data=(X_validation_LSTM_cd, Y_validation_LSTM_cd),epochs=50, batch_size=72, verbose=0, shuffle=False)# plot history\n"
   ]
  },
  {
   "cell_type": "code",
   "execution_count": 83,
   "metadata": {
    "id": "Ibp0T8p5fNO4"
   },
   "outputs": [],
   "source": [
    "# design network - World\n",
    "from matplotlib import pyplot\n",
    "\n",
    "def create_LSTMmodel(neurons=12, learn_rate = 0.01, momentum=0.1):\n",
    "        # create model\n",
    "    model = Sequential()\n",
    "    model.add(LSTM(50, input_shape=(X_train_LSTM_w.shape[1], X_train_LSTM_w.shape[2])))\n",
    "    #More number of cells can be added if needed\n",
    "    model.add(Dense(1))\n",
    "    optimizer = SGD(learning_rate=learn_rate, momentum=0.1)\n",
    "    model.compile(loss='mse', optimizer='adam')\n",
    "    return model\n",
    "LSTMModel_w = create_LSTMmodel(12, learn_rate = 0.01, momentum=0)\n",
    "LSTMModel_fit_w = LSTMModel_w.fit(X_train_LSTM_w, Y_train_LSTM_w, validation_data=(X_validation_LSTM_w, Y_validation_LSTM_w),epochs=50, batch_size=72, verbose=0, shuffle=False)# plot history\n"
   ]
  },
  {
   "cell_type": "code",
   "execution_count": 84,
   "metadata": {
    "id": "xlfButowGIE2"
   },
   "outputs": [
    {
     "data": {
      "image/png": "[encoded data removed]",
      "text/plain": [
       "<Figure size 640x480 with 1 Axes>"
      ]
     },
     "metadata": {},
     "output_type": "display_data"
    }
   ],
   "source": [
    "#Visual plot to check if the error is reducing- Crypto and AI\n",
    "pyplot.plot(LSTMModel_fit_cd.history['loss'], label='train')\n",
    "pyplot.plot(LSTMModel_fit_cd.history['val_loss'], label='test')\n",
    "pyplot.legend()\n",
    "pyplot.show()"
   ]
  },
  {
   "cell_type": "code",
   "execution_count": 85,
   "metadata": {
    "id": "5iu4vmSmGIE2"
   },
   "outputs": [
    {
     "name": "stdout",
     "output_type": "stream",
     "text": [
      "\u001b[1m1/1\u001b[0m \u001b[32m━━━━━━━━━━━━━━━━━━━━\u001b[0m\u001b[37m\u001b[0m \u001b[1m0s\u001b[0m 284ms/step\n",
      "\u001b[1m1/1\u001b[0m \u001b[32m━━━━━━━━━━━━━━━━━━━━\u001b[0m\u001b[37m\u001b[0m \u001b[1m0s\u001b[0m 259ms/step\n"
     ]
    },
    {
     "data": {
      "text/plain": [
       "246998.88367220387"
      ]
     },
     "execution_count": 85,
     "metadata": {},
     "output_type": "execute_result"
    }
   ],
   "source": [
    "error_Training_LSTM_cd = mean_squared_error(Y_train_LSTM_cd, LSTMModel_cd.predict(X_train_LSTM_cd))\n",
    "predicted_cd = LSTMModel_cd.predict(X_validation_LSTM_cd)\n",
    "error_Test_LSTM_cd = mean_squared_error(Y_validation_cd, predicted_cd)\n",
    "error_Test_LSTM_cd"
   ]
  },
  {
   "cell_type": "code",
   "execution_count": 86,
   "metadata": {
    "id": "fuePpYRggjag"
   },
   "outputs": [
    {
     "data": {
      "image/png": "[encoded data removed]",
      "text/plain": [
       "<Figure size 640x480 with 1 Axes>"
      ]
     },
     "metadata": {},
     "output_type": "display_data"
    }
   ],
   "source": [
    "#Visual plot to check if the error is reducing- World\n",
    "pyplot.plot(LSTMModel_fit_w.history['loss'], label='train')\n",
    "pyplot.plot(LSTMModel_fit_w.history['val_loss'], label='test')\n",
    "pyplot.legend()\n",
    "pyplot.show()"
   ]
  },
  {
   "cell_type": "code",
   "execution_count": 87,
   "metadata": {
    "id": "CPCrDHA5gjag"
   },
   "outputs": [
    {
     "name": "stdout",
     "output_type": "stream",
     "text": [
      "\u001b[1m2/2\u001b[0m \u001b[32m━━━━━━━━━━━━━━━━━━━━\u001b[0m\u001b[37m\u001b[0m \u001b[1m0s\u001b[0m 215ms/step\n",
      "WARNING:tensorflow:5 out of the last 5 calls to <function TensorFlowTrainer.make_predict_function.<locals>.one_step_on_data_distributed at 0x000001B0DBF37600> triggered tf.function retracing. Tracing is expensive and the excessive number of tracings could be due to (1) creating @tf.function repeatedly in a loop, (2) passing tensors with different shapes, (3) passing Python objects instead of tensors. For (1), please define your @tf.function outside of the loop. For (2), @tf.function has reduce_retracing=True option that can avoid unnecessary retracing. For (3), please refer to https://www.tensorflow.org/guide/function#controlling_retracing and https://www.tensorflow.org/api_docs/python/tf/function for  more details.\n",
      "\u001b[1m1/1\u001b[0m \u001b[32m━━━━━━━━━━━━━━━━━━━━\u001b[0m\u001b[37m\u001b[0m \u001b[1m0s\u001b[0m 211ms/step\n"
     ]
    },
    {
     "data": {
      "text/plain": [
       "12277028883.399672"
      ]
     },
     "execution_count": 87,
     "metadata": {},
     "output_type": "execute_result"
    }
   ],
   "source": [
    "error_Training_LSTM_w = mean_squared_error(Y_train_LSTM_w, LSTMModel_cd.predict(X_train_LSTM_w))\n",
    "predicted_w = LSTMModel_w.predict(X_validation_LSTM_w)\n",
    "error_Test_LSTM_w = mean_squared_error(Y_validation_w, predicted_w)\n",
    "error_Test_LSTM_w"
   ]
  },
  {
   "cell_type": "markdown",
   "metadata": {
    "id": "lpNwOJIdGIE3"
   },
   "source": [
    "### Overall Comparison of all the algorithms ( including Time Series Algorithms)"
   ]
  },
  {
   "cell_type": "code",
   "execution_count": 88,
   "metadata": {
    "id": "q4xsbT9GGIE3"
   },
   "outputs": [
    {
     "data": {
      "image/png": "[encoded data removed]",
      "text/plain": [
       "<Figure size 1500x800 with 1 Axes>"
      ]
     },
     "metadata": {},
     "output_type": "display_data"
    }
   ],
   "source": [
    "# compare algorithms - Crypto and AI\n",
    "results_cd.append(error_Test_ARIMA_cd)\n",
    "names_cd.append(\"ARIMA\")\n",
    "fig = pyplot.figure()\n",
    "fig.suptitle('Algorithm Comparison-Post Time Series - Crypto and AI')\n",
    "ax = fig.add_subplot(111)\n",
    "pyplot.boxplot(results_cd)\n",
    "ax.set_xticklabels(names_cd)\n",
    "fig.set_size_inches(15,8)\n",
    "pyplot.show()"
   ]
  },
  {
   "cell_type": "markdown",
   "metadata": {
    "id": "O6tGn4sAGIE3"
   },
   "source": [
    "Grid Search uses Cross validation which isn't appropriate for the time series models such as LSTM"
   ]
  },
  {
   "cell_type": "code",
   "execution_count": 89,
   "metadata": {
    "id": "kD6gmjk7g3lB"
   },
   "outputs": [
    {
     "data": {
      "image/png": "[encoded data removed]",
      "text/plain": [
       "<Figure size 1500x800 with 1 Axes>"
      ]
     },
     "metadata": {},
     "output_type": "display_data"
    }
   ],
   "source": [
    "# compare algorithms - World\n",
    "results_w.append(error_Test_ARIMA_w)\n",
    "names_w.append(\"ARIMA\")\n",
    "fig = pyplot.figure()\n",
    "fig.suptitle('Algorithm Comparison-Post Time Series')\n",
    "ax = fig.add_subplot(111)\n",
    "pyplot.boxplot(results_w)\n",
    "ax.set_xticklabels(names_w)\n",
    "fig.set_size_inches(15,8)\n",
    "pyplot.show()"
   ]
  },
  {
   "cell_type": "markdown",
   "metadata": {
    "id": "QEvHqmZSGIE3"
   },
   "source": [
    "<a id='5'></a>\n",
    "# 6. Model Tuning and Grid Search\n",
    "This section shown the Grid search for all the Machine Learning and time series models mentioned in the book."
   ]
  },
  {
   "cell_type": "markdown",
   "metadata": {
    "id": "i1R5dQTPGIE4"
   },
   "source": [
    "<a id='5.1'></a>\n",
    "### 6.1. Common Regression, Ensemble and DeepNNRegressor Grid Search\n"
   ]
  },
  {
   "cell_type": "markdown",
   "metadata": {
    "id": "-b5kRMOOqBqq"
   },
   "source": [
    "Grid Search Crypto and AI"
   ]
  },
  {
   "cell_type": "code",
   "execution_count": 90,
   "metadata": {
    "id": "dHSAO7pyGIE6"
   },
   "outputs": [
    {
     "name": "stdout",
     "output_type": "stream",
     "text": [
      "Best: -989.181921 using {'n_estimators': 50}\n",
      "-989.181921 (1764.864199) with: {'n_estimators': 50}\n",
      "-1407.105049 (2599.100687) with: {'n_estimators': 100}\n",
      "-1540.808463 (2576.636523) with: {'n_estimators': 150}\n",
      "-1325.932745 (2271.287745) with: {'n_estimators': 200}\n",
      "-1437.185776 (2458.833886) with: {'n_estimators': 250}\n",
      "-1370.252344 (2434.965375) with: {'n_estimators': 300}\n",
      "-1425.229758 (2364.262117) with: {'n_estimators': 350}\n",
      "-1296.164185 (2208.287994) with: {'n_estimators': 400}\n"
     ]
    }
   ],
   "source": [
    "# 8. Grid search : RandomForestRegressor - Crypto and AI\n",
    "'''\n",
    "n_estimators : integer, optional (default=10)\n",
    "    The number of trees in the forest.\n",
    "'''\n",
    "param_grid = {'n_estimators': [50,100,150,200,250,300,350,400]}\n",
    "model = RandomForestRegressor()\n",
    "kfold = KFold(n_splits=num_folds, random_state=seed, shuffle=True)\n",
    "grid = GridSearchCV(estimator=model, param_grid=param_grid, scoring=scoring, cv=kfold)\n",
    "grid_result = grid.fit(X_train_cd, Y_train_cd)\n",
    "print(\"Best: %f using %s\" % (grid_result.best_score_, grid_result.best_params_))\n",
    "means = grid_result.cv_results_['mean_test_score']\n",
    "stds = grid_result.cv_results_['std_test_score']\n",
    "params = grid_result.cv_results_['params']\n",
    "for mean, stdev, param in zip(means, stds, params):\n",
    "    print(\"%f (%f) with: %r\" % (mean, stdev, param))"
   ]
  },
  {
   "cell_type": "code",
   "execution_count": 91,
   "metadata": {
    "id": "ja44zastGIE6"
   },
   "outputs": [
    {
     "name": "stdout",
     "output_type": "stream",
     "text": [
      "Best: -623.333212 using {'n_estimators': 50}\n",
      "-623.333212 (943.749216) with: {'n_estimators': 50}\n",
      "-630.440651 (951.980371) with: {'n_estimators': 100}\n",
      "-637.821372 (981.343448) with: {'n_estimators': 150}\n",
      "-681.442360 (1005.131239) with: {'n_estimators': 200}\n",
      "-704.208849 (1017.225081) with: {'n_estimators': 250}\n",
      "-691.252094 (1012.764960) with: {'n_estimators': 300}\n",
      "-688.681626 (1002.113203) with: {'n_estimators': 350}\n",
      "-650.962342 (977.630281) with: {'n_estimators': 400}\n"
     ]
    }
   ],
   "source": [
    "# 10. Grid search : ExtraTreesRegressor - Crypto and AI\n",
    "'''\n",
    "n_estimators : integer, optional (default=10)\n",
    "    The number of trees in the forest.\n",
    "'''\n",
    "param_grid = {'n_estimators': [50,100,150,200,250,300,350,400]}\n",
    "model = ExtraTreesRegressor(random_state=seed)\n",
    "kfold = KFold(n_splits=num_folds, random_state=seed, shuffle=True)\n",
    "grid = GridSearchCV(estimator=model, param_grid=param_grid, scoring=scoring, cv=kfold)\n",
    "grid_result = grid.fit(X_train_cd, Y_train_cd)\n",
    "print(\"Best: %f using %s\" % (grid_result.best_score_, grid_result.best_params_))\n",
    "means = grid_result.cv_results_['mean_test_score']\n",
    "stds = grid_result.cv_results_['std_test_score']\n",
    "params = grid_result.cv_results_['params']\n",
    "for mean, stdev, param in zip(means, stds, params):\n",
    "    print(\"%f (%f) with: %r\" % (mean, stdev, param))"
   ]
  },
  {
   "cell_type": "code",
   "execution_count": 92,
   "metadata": {
    "id": "c_Gv7MW7pId7"
   },
   "outputs": [
    {
     "name": "stdout",
     "output_type": "stream",
     "text": [
      "Best: -1402.372654 using {'learning_rate': 2, 'n_estimators': 200}\n",
      "-1506.394657 (2615.202013) with: {'learning_rate': 1, 'n_estimators': 50}\n",
      "-1510.550479 (2612.836489) with: {'learning_rate': 1, 'n_estimators': 100}\n",
      "-1510.550479 (2612.836489) with: {'learning_rate': 1, 'n_estimators': 150}\n",
      "-1510.550479 (2612.836489) with: {'learning_rate': 1, 'n_estimators': 200}\n",
      "-1510.550479 (2612.836489) with: {'learning_rate': 1, 'n_estimators': 250}\n",
      "-1510.550479 (2612.836489) with: {'learning_rate': 1, 'n_estimators': 300}\n",
      "-1508.976105 (2613.739639) with: {'learning_rate': 1, 'n_estimators': 350}\n",
      "-1505.969182 (2615.446224) with: {'learning_rate': 1, 'n_estimators': 400}\n",
      "-1735.275479 (2538.190230) with: {'learning_rate': 2, 'n_estimators': 50}\n",
      "-1535.418562 (2599.175101) with: {'learning_rate': 2, 'n_estimators': 100}\n",
      "-1535.418562 (2599.175101) with: {'learning_rate': 2, 'n_estimators': 150}\n",
      "-1402.372654 (2644.068449) with: {'learning_rate': 2, 'n_estimators': 200}\n",
      "-1402.372654 (2644.068449) with: {'learning_rate': 2, 'n_estimators': 250}\n",
      "-1535.418562 (2599.175101) with: {'learning_rate': 2, 'n_estimators': 300}\n",
      "-1583.362482 (2594.538428) with: {'learning_rate': 2, 'n_estimators': 350}\n",
      "-1583.362482 (2594.538428) with: {'learning_rate': 2, 'n_estimators': 400}\n",
      "-4319.313923 (6093.968825) with: {'learning_rate': 3, 'n_estimators': 50}\n",
      "-2782.228060 (2148.914539) with: {'learning_rate': 3, 'n_estimators': 100}\n",
      "-2782.228060 (2148.914539) with: {'learning_rate': 3, 'n_estimators': 150}\n",
      "-2782.228060 (2148.914539) with: {'learning_rate': 3, 'n_estimators': 200}\n",
      "-2782.228060 (2148.914539) with: {'learning_rate': 3, 'n_estimators': 250}\n",
      "-2782.228060 (2148.914539) with: {'learning_rate': 3, 'n_estimators': 300}\n",
      "-2782.228060 (2148.914539) with: {'learning_rate': 3, 'n_estimators': 350}\n",
      "-2782.228060 (2148.914539) with: {'learning_rate': 3, 'n_estimators': 400}\n"
     ]
    }
   ],
   "source": [
    "# 11. Grid search : AdaBoostRegre - Crypto and AI\n",
    "'''\n",
    "n_estimators : integer, optional (default=50)\n",
    "    The maximum number of estimators at which boosting is terminated.\n",
    "    In case of perfect fit, the learning procedure is stopped early.\n",
    "\n",
    "learning_rate : float, optional (default=1.)\n",
    "    Learning rate shrinks the contribution of each regressor by\n",
    "    ``learning_rate``. There is a trade-off between ``learning_rate`` and\n",
    "    ``n_estimators``.\n",
    "'''\n",
    "param_grid = {'n_estimators': [50,100,150,200,250,300,350,400],\n",
    "             'learning_rate': [1, 2, 3]}\n",
    "model = AdaBoostRegressor(random_state=seed)\n",
    "kfold = KFold(n_splits=num_folds, random_state=seed, shuffle=True)\n",
    "grid = GridSearchCV(estimator=model, param_grid=param_grid, scoring=scoring, cv=kfold)\n",
    "grid_result = grid.fit(X_train_cd, Y_train_cd)\n",
    "print(\"Best: %f using %s\" % (grid_result.best_score_, grid_result.best_params_))\n",
    "means = grid_result.cv_results_['mean_test_score']\n",
    "stds = grid_result.cv_results_['std_test_score']\n",
    "params = grid_result.cv_results_['params']\n",
    "for mean, stdev, param in zip(means, stds, params):\n",
    "    print(\"%f (%f) with: %r\" % (mean, stdev, param))"
   ]
  },
  {
   "cell_type": "markdown",
   "metadata": {
    "id": "RyEPqaEep7jk"
   },
   "source": [
    "Grid Search World"
   ]
  },
  {
   "cell_type": "code",
   "execution_count": 93,
   "metadata": {
    "id": "WAhLOYT9pId6"
   },
   "outputs": [
    {
     "name": "stdout",
     "output_type": "stream",
     "text": [
      "Best: -1844129.531554 using {'n_estimators': 300}\n",
      "-2131430.828676 (1202420.296729) with: {'n_estimators': 50}\n",
      "-2140179.240524 (1372456.013375) with: {'n_estimators': 100}\n",
      "-2040421.920847 (1334817.042534) with: {'n_estimators': 150}\n",
      "-1957856.754095 (1269035.653745) with: {'n_estimators': 200}\n",
      "-2134789.454050 (1608406.363957) with: {'n_estimators': 250}\n",
      "-1844129.531554 (1228837.868680) with: {'n_estimators': 300}\n",
      "-1970903.306756 (1282419.747013) with: {'n_estimators': 350}\n",
      "-1969978.802786 (1359021.982921) with: {'n_estimators': 400}\n"
     ]
    }
   ],
   "source": [
    "# 8. Grid search : RandomForestRegressor - World\n",
    "'''\n",
    "n_estimators : integer, optional (default=10)\n",
    "    The number of trees in the forest.\n",
    "'''\n",
    "param_grid = {'n_estimators': [50,100,150,200,250,300,350,400]}\n",
    "model = RandomForestRegressor()\n",
    "kfold = KFold(n_splits=num_folds, random_state=seed, shuffle=True)\n",
    "grid = GridSearchCV(estimator=model, param_grid=param_grid, scoring=scoring, cv=kfold)\n",
    "grid_result = grid.fit(X_train_w, Y_train_w)\n",
    "print(\"Best: %f using %s\" % (grid_result.best_score_, grid_result.best_params_))\n",
    "means = grid_result.cv_results_['mean_test_score']\n",
    "stds = grid_result.cv_results_['std_test_score']\n",
    "params = grid_result.cv_results_['params']\n",
    "for mean, stdev, param in zip(means, stds, params):\n",
    "    print(\"%f (%f) with: %r\" % (mean, stdev, param))"
   ]
  },
  {
   "cell_type": "code",
   "execution_count": 94,
   "metadata": {
    "id": "JxpB1WOzpId7"
   },
   "outputs": [
    {
     "name": "stdout",
     "output_type": "stream",
     "text": [
      "Best: -905943.499741 using {'n_estimators': 100}\n",
      "-1025274.125091 (721573.822669) with: {'n_estimators': 50}\n",
      "-905943.499741 (700503.150507) with: {'n_estimators': 100}\n",
      "-943187.730198 (685907.961501) with: {'n_estimators': 150}\n",
      "-927928.070718 (658212.486418) with: {'n_estimators': 200}\n",
      "-912491.325648 (641576.786447) with: {'n_estimators': 250}\n",
      "-923816.441756 (656167.262491) with: {'n_estimators': 300}\n",
      "-929151.550351 (658379.667892) with: {'n_estimators': 350}\n",
      "-948066.260299 (681588.294387) with: {'n_estimators': 400}\n"
     ]
    }
   ],
   "source": [
    "# 10. Grid search : ExtraTreesRegressor - World\n",
    "'''\n",
    "n_estimators : integer, optional (default=10)\n",
    "    The number of trees in the forest.\n",
    "'''\n",
    "param_grid = {'n_estimators': [50,100,150,200,250,300,350,400]}\n",
    "model = ExtraTreesRegressor(random_state=seed)\n",
    "kfold = KFold(n_splits=num_folds, random_state=seed, shuffle=True)\n",
    "grid = GridSearchCV(estimator=model, param_grid=param_grid, scoring=scoring, cv=kfold)\n",
    "grid_result = grid.fit(X_train_w, Y_train_w)\n",
    "print(\"Best: %f using %s\" % (grid_result.best_score_, grid_result.best_params_))\n",
    "means = grid_result.cv_results_['mean_test_score']\n",
    "stds = grid_result.cv_results_['std_test_score']\n",
    "params = grid_result.cv_results_['params']\n",
    "for mean, stdev, param in zip(means, stds, params):\n",
    "    print(\"%f (%f) with: %r\" % (mean, stdev, param))"
   ]
  },
  {
   "cell_type": "markdown",
   "metadata": {
    "id": "snN4hEJ0GIE7"
   },
   "source": [
    "<a id='5.2'></a>\n",
    "### 6.2. Grid Search- Time Series Models"
   ]
  },
  {
   "cell_type": "code",
   "execution_count": 95,
   "metadata": {
    "id": "6k-X7fFhGIE7"
   },
   "outputs": [
    {
     "name": "stdout",
     "output_type": "stream",
     "text": [
      "ARIMA(0, 0, 0) MSE=950.1566218\n",
      "ARIMA(0, 0, 1) MSE=754.7051422\n",
      "ARIMA(0, 0, 2) MSE=683.9668280\n",
      "ARIMA(0, 1, 0) MSE=372121769.4316639\n",
      "ARIMA(0, 1, 1) MSE=459944230.7085168\n",
      "ARIMA(0, 1, 2) MSE=931944363.9965873\n",
      "ARIMA(0, 2, 0) MSE=7522.1634930\n",
      "ARIMA(0, 2, 1) MSE=159802419.9460371\n",
      "ARIMA(0, 2, 2) MSE=52180817.9471145\n",
      "ARIMA(1, 0, 0) MSE=783.0581873\n",
      "ARIMA(1, 0, 1) MSE=736.8714178\n",
      "ARIMA(1, 0, 2) MSE=640.4663773\n",
      "ARIMA(1, 1, 0) MSE=649325231.3021702\n",
      "ARIMA(1, 1, 1) MSE=440103033.6806315\n",
      "ARIMA(1, 1, 2) MSE=161853951792.2311401\n",
      "ARIMA(1, 2, 0) MSE=20619459.7733251\n",
      "ARIMA(1, 2, 1) MSE=19347519.7799989\n",
      "ARIMA(1, 2, 2) MSE=49616060.2632297\n",
      "ARIMA(2, 0, 0) MSE=675.2885706\n",
      "ARIMA(2, 0, 1) MSE=482.3271686\n",
      "ARIMA(2, 0, 2) MSE=473.5700643\n",
      "ARIMA(2, 1, 0) MSE=3252408370.8927979\n",
      "ARIMA(2, 1, 1) MSE=132878557897.7797394\n",
      "ARIMA(2, 1, 2) MSE=980526145.9291437\n",
      "ARIMA(2, 2, 0) MSE=3691466.7626322\n",
      "ARIMA(2, 2, 1) MSE=8715364.9948638\n",
      "ARIMA(2, 2, 2) MSE=123700751.7046908\n",
      "ARIMA(3, 0, 0) MSE=491.9830312\n",
      "ARIMA(3, 0, 1) MSE=428.9693767\n",
      "ARIMA(3, 0, 2) MSE=483.3105263\n",
      "ARIMA(3, 1, 0) MSE=7442897978.6781855\n",
      "ARIMA(3, 1, 1) MSE=964306688.3048435\n",
      "ARIMA(3, 1, 2) MSE=1249195614.3835821\n",
      "ARIMA(3, 2, 0) MSE=485722.2073294\n",
      "ARIMA(3, 2, 1) MSE=2383616.4394292\n",
      "ARIMA(3, 2, 2) MSE=190630572.3466696\n",
      "Best ARIMA(3, 0, 1) MSE=428.9693767\n"
     ]
    }
   ],
   "source": [
    "#Grid Search for ARIMA Model - Crypto and AI\n",
    "#Change p,d and q and check for the best result\n",
    "\n",
    "# evaluate an ARIMA model for a given order (p,d,q)\n",
    "#Assuming that the train and Test Data is already defined before\n",
    "def evaluate_arima_model(arima_order):\n",
    "    #predicted = list()\n",
    "    modelARIMA_cd = ARIMA(endog=Y_train_cd,exog=X_train_ARIMA_cd,order=arima_order)\n",
    "    model_fit_cd = modelARIMA_cd.fit()\n",
    "    #error on the test set\n",
    "#     tr_len = len(X_train_ARIMA)\n",
    "#     to_len = len(X_train_ARIMA) + len(X_validation_ARIMA)\n",
    "#     predicted = model_fit.predict(start = tr_len -1 ,end = to_len -1, exog = X_validation_ARIMA)[1:]\n",
    "#     error = mean_squared_error(predicted, Y_validation)\n",
    "    # error on the training set\n",
    "    error = mean_squared_error(Y_train_cd, model_fit_cd.fittedvalues)\n",
    "    return error\n",
    "\n",
    "# evaluate combinations of p, d and q values for an ARIMA model\n",
    "def evaluate_models(p_values, d_values, q_values):\n",
    "    best_score, best_cfg = float(\"inf\"), None\n",
    "    for p in p_values:\n",
    "        for d in d_values:\n",
    "            for q in q_values:\n",
    "                order = (p,d,q)\n",
    "                try:\n",
    "                    mse = evaluate_arima_model(order)\n",
    "                    if mse < best_score:\n",
    "                        best_score, best_cfg = mse, order\n",
    "                    print('ARIMA%s MSE=%.7f' % (order,mse))\n",
    "                except:\n",
    "                    continue\n",
    "    print('Best ARIMA%s MSE=%.7f' % (best_cfg, best_score))\n",
    "\n",
    "# evaluate parameters\n",
    "p_values = [0, 1, 2, 3]\n",
    "d_values = range(0, 3)\n",
    "q_values = range(0, 3)\n",
    "warnings.filterwarnings(\"ignore\")\n",
    "evaluate_models(p_values, d_values, q_values)"
   ]
  },
  {
   "cell_type": "code",
   "execution_count": 96,
   "metadata": {
    "id": "a_PEaYccq_xA"
   },
   "outputs": [
    {
     "name": "stdout",
     "output_type": "stream",
     "text": [
      "ARIMA(0, 0, 0) MSE=7189928.7829255\n",
      "ARIMA(0, 0, 1) MSE=2508170.7930678\n",
      "ARIMA(0, 0, 2) MSE=1982982.1440726\n",
      "ARIMA(0, 1, 0) MSE=166430260302.9152222\n",
      "ARIMA(0, 1, 1) MSE=166430346384.0547791\n",
      "ARIMA(0, 1, 2) MSE=166430313824.3149109\n",
      "ARIMA(0, 2, 0) MSE=92826632.4665236\n",
      "ARIMA(0, 2, 1) MSE=1791165.4060686\n",
      "ARIMA(0, 2, 2) MSE=1754473.8393963\n",
      "ARIMA(1, 0, 0) MSE=1629228.3119297\n",
      "ARIMA(1, 0, 1) MSE=1522388.3583567\n",
      "ARIMA(1, 0, 2) MSE=1519471.5683791\n",
      "ARIMA(1, 1, 0) MSE=166430348306.6091614\n",
      "ARIMA(1, 1, 1) MSE=166430365933.5934753\n",
      "ARIMA(1, 1, 2) MSE=166430300920.7577515\n",
      "ARIMA(1, 2, 0) MSE=2468908.4862520\n",
      "ARIMA(1, 2, 1) MSE=1767232.5549226\n",
      "ARIMA(1, 2, 2) MSE=1806401.1962729\n",
      "ARIMA(2, 0, 0) MSE=1527825.5722043\n",
      "ARIMA(2, 0, 1) MSE=1506385.7994600\n",
      "ARIMA(2, 0, 2) MSE=1369228.8947954\n",
      "ARIMA(2, 1, 0) MSE=166430316419.5194702\n",
      "ARIMA(2, 1, 1) MSE=166430321124.6916809\n",
      "ARIMA(2, 1, 2) MSE=166430254618.2287903\n",
      "ARIMA(2, 2, 0) MSE=2706771.4926402\n",
      "ARIMA(2, 2, 1) MSE=1776013.0963342\n",
      "ARIMA(2, 2, 2) MSE=1746174.2761896\n",
      "ARIMA(3, 0, 0) MSE=1527963.5328769\n",
      "ARIMA(3, 0, 1) MSE=1500394.8424527\n",
      "ARIMA(3, 0, 2) MSE=1335572.9599274\n",
      "ARIMA(3, 1, 0) MSE=166430262827.3349304\n",
      "ARIMA(3, 1, 1) MSE=166430266766.3551941\n",
      "ARIMA(3, 1, 2) MSE=166430289224.9448242\n",
      "ARIMA(3, 2, 0) MSE=2811099.3761063\n",
      "ARIMA(3, 2, 1) MSE=2013166.8412091\n",
      "ARIMA(3, 2, 2) MSE=3895665.3587715\n",
      "Best ARIMA(3, 0, 2) MSE=1335572.9599274\n"
     ]
    }
   ],
   "source": [
    "#Grid Search for ARIMA Model - World\n",
    "#Change p,d and q and check for the best result\n",
    "\n",
    "# evaluate an ARIMA model for a given order (p,d,q)\n",
    "#Assuming that the train and Test Data is already defined before\n",
    "def evaluate_arima_model(arima_order):\n",
    "    #predicted = list()\n",
    "    modelARIMA=ARIMA(endog=Y_train_w,exog=X_train_ARIMA_w,order=arima_order)\n",
    "    model_fit = modelARIMA.fit()\n",
    "    #error on the test set\n",
    "#     tr_len = len(X_train_ARIMA)\n",
    "#     to_len = len(X_train_ARIMA) + len(X_validation_ARIMA)\n",
    "#     predicted = model_fit.predict(start = tr_len -1 ,end = to_len -1, exog = X_validation_ARIMA)[1:]\n",
    "#     error = mean_squared_error(predicted, Y_validation)\n",
    "    # error on the training set\n",
    "    error = mean_squared_error(Y_train_w, model_fit.fittedvalues)\n",
    "    return error\n",
    "\n",
    "# evaluate combinations of p, d and q values for an ARIMA model\n",
    "def evaluate_models(p_values, d_values, q_values):\n",
    "    best_score, best_cfg = float(\"inf\"), None\n",
    "    for p in p_values:\n",
    "        for d in d_values:\n",
    "            for q in q_values:\n",
    "                order = (p,d,q)\n",
    "                try:\n",
    "                    mse = evaluate_arima_model(order)\n",
    "                    if mse < best_score:\n",
    "                        best_score, best_cfg = mse, order\n",
    "                    print('ARIMA%s MSE=%.7f' % (order,mse))\n",
    "                except:\n",
    "                    continue\n",
    "    print('Best ARIMA%s MSE=%.7f' % (best_cfg, best_score))\n",
    "\n",
    "# evaluate parameters\n",
    "p_values = [0, 1, 2, 3]\n",
    "d_values = range(0, 3)\n",
    "q_values = range(0, 3)\n",
    "#warnings.filterwarnings(\"ignore\")\n",
    "evaluate_models(p_values, d_values, q_values)"
   ]
  },
  {
   "cell_type": "markdown",
   "metadata": {
    "id": "G4XC28vDGIE7"
   },
   "source": [
    "<a id='6'></a>\n",
    "# 7. Finalise the Model"
   ]
  },
  {
   "cell_type": "markdown",
   "metadata": {
    "id": "PDufp8SyGIE7"
   },
   "source": [
    "Let us select one of the model to finalize the data. Looking at the results for the Random Forest Model. Looking at the results for the RandomForestRegressor model"
   ]
  },
  {
   "cell_type": "markdown",
   "metadata": {
    "id": "hBwkPfNyGIE8"
   },
   "source": [
    "<a id='6.1'></a>\n",
    "## 7.1. Results on the Test Dataset"
   ]
  },
  {
   "cell_type": "code",
   "execution_count": 97,
   "metadata": {
    "id": "eGTRDZrNGIE8"
   },
   "outputs": [],
   "source": [
    "# Fit model - Crypto and AI\n",
    "# prepare model\n",
    "#scaler = StandardScaler().fit(X_train)\n",
    "#rescaledX = scaler.transform(X_train)\n",
    "model_cd_et = ExtraTreesRegressor(n_estimators=50) # rbf is default kernel\n",
    "model_cd_et.fit(X_train_cd, Y_train_cd)\n",
    "\n",
    "# ARIMA\n",
    "modelARIMA_cd = ARIMA(endog = Y_train_cd, exog = X_train_ARIMA_cd, order=(3,0,1)) # Note: order is a tuple\n",
    "model_fit_ARIMA_cd = modelARIMA_cd.fit()\n",
    "# Fitting the ARIMA model\n",
    "error_Training_ARIMA_cd = mean_squared_error(Y_train_cd, model_fit_ARIMA_cd.fittedvalues)"
   ]
  },
  {
   "cell_type": "code",
   "execution_count": 98,
   "metadata": {
    "id": "6RGTawpIJjmM"
   },
   "outputs": [
    {
     "name": "stdout",
     "output_type": "stream",
     "text": [
      "--------------------------------------------------\n",
      "EXTRA TREES MODEL\n",
      "--------------------------------------------------\n",
      "Mean Squared Error: 14786.875939802967\n",
      "r2 Score: -2.9322846025537115\n",
      "--------------------------------------------------\n",
      "ARIMA MODEL\n",
      "--------------------------------------------------\n",
      "Mean Squared Error: 10095.320516297623\n",
      "r2 Score: -1.6846558790166393\n"
     ]
    }
   ],
   "source": [
    "# estimate accuracy on validation set - Crypto and AI\n",
    "# transform the validation dataset\n",
    "from sklearn.metrics import mean_squared_error\n",
    "from sklearn.metrics import r2_score\n",
    "#rescaledValidationX = scaler.transform(X_validation)\n",
    "predictions_et_cd = model_cd_et.predict(X_validation_cd)\n",
    "print('-'*50)\n",
    "print('EXTRA TREES MODEL')\n",
    "print('-'*50)\n",
    "print('Mean Squared Error:',mean_squared_error(Y_validation_cd, predictions_et_cd))\n",
    "print('r2 Score:', r2_score(Y_validation_cd, predictions_et_cd))\n",
    "\n",
    "print('-'*50)\n",
    "print('ARIMA MODEL')\n",
    "print('-'*50)\n",
    "predictions_arima_cd = model_fit_ARIMA_cd.predict(start = tr_len_cd - 1, end = to_len_cd - 1, exog = X_validation_ARIMA_cd)[1:]\n",
    "print('Mean Squared Error:',mean_squared_error(Y_validation_cd, predictions_arima_cd))\n",
    "print('r2 Score:', r2_score(Y_validation_cd, predictions_arima_cd))"
   ]
  },
  {
   "cell_type": "code",
   "execution_count": 99,
   "metadata": {
    "id": "mU4S8qLSG1Df"
   },
   "outputs": [],
   "source": [
    "# Fit model - World\n",
    "# prepare model\n",
    "#scaler = StandardScaler().fit(X_train)\n",
    "#rescaledX = scaler.transform(X_train)\n",
    "model_w_et = ExtraTreesRegressor(n_estimators=50) # rbf is default kernel\n",
    "model_w_et.fit(X_train_w, Y_train_w)\n",
    "\n",
    "modelARIMA_w = ARIMA(endog = Y_train_w, exog = X_train_ARIMA_w, order=(3,0,2)) # Note: order is a tuple\n",
    "model_fit_ARIMA_w = modelARIMA_w.fit()\n",
    "# Fitting the ARIMA model\n",
    "error_Training_ARIMA_cd = mean_squared_error(Y_train_cd, model_fit_ARIMA_cd.fittedvalues)"
   ]
  },
  {
   "cell_type": "code",
   "execution_count": 100,
   "metadata": {
    "id": "AOGphrkaGIE8"
   },
   "outputs": [
    {
     "name": "stdout",
     "output_type": "stream",
     "text": [
      "--------------------------------------------------\n",
      "EXTRA TREES MODEL\n",
      "--------------------------------------------------\n",
      "Mean Squared Error: 12220391892.717453\n",
      "r2 Score: -713.8261366589899\n",
      "--------------------------------------------------\n",
      "ARIMA MODEL\n",
      "--------------------------------------------------\n",
      "Mean Squared Error: 50378438.666727215\n",
      "r2 Score: -1.946863324776774\n"
     ]
    }
   ],
   "source": [
    "# estimate accuracy on validation set - World\n",
    "# transform the validation dataset\n",
    "#rescaledValidationX = scaler.transform(X_validation)\n",
    "predictions_et_w = model_cd_et.predict(X_validation_w)\n",
    "print('-'*50)\n",
    "print('EXTRA TREES MODEL')\n",
    "print('-'*50)\n",
    "print('Mean Squared Error:',mean_squared_error(Y_validation_w, predictions_et_w))\n",
    "print('r2 Score:', r2_score(Y_validation_w, predictions_et_w))\n",
    "\n",
    "print('-'*50)\n",
    "print('ARIMA MODEL')\n",
    "print('-'*50)\n",
    "predictions_arima_w = model_fit_ARIMA_w.predict(start = tr_len_w - 1, end = to_len_w - 1, exog = X_validation_ARIMA_w)[1:]\n",
    "print('Mean Squared Error:',mean_squared_error(Y_validation_w, predictions_arima_w))\n",
    "print('r2 Score:', r2_score(Y_validation_w, predictions_arima_w))"
   ]
  },
  {
   "cell_type": "code",
   "execution_count": 101,
   "metadata": {
    "id": "HBsDS_1eznAV"
   },
   "outputs": [
    {
     "data": {
      "text/html": [
       "<div>\n",
       "<style scoped>\n",
       "    .dataframe tbody tr th:only-of-type {\n",
       "        vertical-align: middle;\n",
       "    }\n",
       "\n",
       "    .dataframe tbody tr th {\n",
       "        vertical-align: top;\n",
       "    }\n",
       "\n",
       "    .dataframe thead th {\n",
       "        text-align: right;\n",
       "    }\n",
       "</style>\n",
       "<table border=\"1\" class=\"dataframe\">\n",
       "  <thead>\n",
       "    <tr style=\"text-align: right;\">\n",
       "      <th></th>\n",
       "      <th>Year</th>\n",
       "      <th>Consumption</th>\n",
       "      <th>predicted_mean</th>\n",
       "    </tr>\n",
       "  </thead>\n",
       "  <tbody>\n",
       "    <tr>\n",
       "      <th>41</th>\n",
       "      <td>2012</td>\n",
       "      <td>103863.356</td>\n",
       "      <td>102435.549</td>\n",
       "    </tr>\n",
       "    <tr>\n",
       "      <th>42</th>\n",
       "      <td>2013</td>\n",
       "      <td>105832.875</td>\n",
       "      <td>103230.844</td>\n",
       "    </tr>\n",
       "    <tr>\n",
       "      <th>43</th>\n",
       "      <td>2014</td>\n",
       "      <td>107202.922</td>\n",
       "      <td>103090.257</td>\n",
       "    </tr>\n",
       "    <tr>\n",
       "      <th>44</th>\n",
       "      <td>2015</td>\n",
       "      <td>108156.408</td>\n",
       "      <td>103504.982</td>\n",
       "    </tr>\n",
       "    <tr>\n",
       "      <th>45</th>\n",
       "      <td>2016</td>\n",
       "      <td>109455.939</td>\n",
       "      <td>103547.624</td>\n",
       "    </tr>\n",
       "    <tr>\n",
       "      <th>46</th>\n",
       "      <td>2017</td>\n",
       "      <td>111659.216</td>\n",
       "      <td>103925.249</td>\n",
       "    </tr>\n",
       "    <tr>\n",
       "      <th>47</th>\n",
       "      <td>2018</td>\n",
       "      <td>114266.820</td>\n",
       "      <td>104221.586</td>\n",
       "    </tr>\n",
       "    <tr>\n",
       "      <th>48</th>\n",
       "      <td>2019</td>\n",
       "      <td>114905.814</td>\n",
       "      <td>104770.269</td>\n",
       "    </tr>\n",
       "    <tr>\n",
       "      <th>49</th>\n",
       "      <td>2020</td>\n",
       "      <td>109913.075</td>\n",
       "      <td>105380.558</td>\n",
       "    </tr>\n",
       "    <tr>\n",
       "      <th>50</th>\n",
       "      <td>2021</td>\n",
       "      <td>115536.957</td>\n",
       "      <td>106203.595</td>\n",
       "    </tr>\n",
       "    <tr>\n",
       "      <th>51</th>\n",
       "      <td>2022</td>\n",
       "      <td>117183.552</td>\n",
       "      <td>107144.127</td>\n",
       "    </tr>\n",
       "  </tbody>\n",
       "</table>\n",
       "</div>"
      ],
      "text/plain": [
       "    Year  Consumption  predicted_mean\n",
       "41  2012   103863.356      102435.549\n",
       "42  2013   105832.875      103230.844\n",
       "43  2014   107202.922      103090.257\n",
       "44  2015   108156.408      103504.982\n",
       "45  2016   109455.939      103547.624\n",
       "46  2017   111659.216      103925.249\n",
       "47  2018   114266.820      104221.586\n",
       "48  2019   114905.814      104770.269\n",
       "49  2020   109913.075      105380.558\n",
       "50  2021   115536.957      106203.595\n",
       "51  2022   117183.552      107144.127"
      ]
     },
     "execution_count": 101,
     "metadata": {},
     "output_type": "execute_result"
    }
   ],
   "source": [
    "df = pd.merge(X_validation_ARIMA_w, Y_validation_w, left_index=True, right_index=True)\n",
    "df_f = pd.merge(df, predictions_arima_w, left_index=True, right_index=True)\n",
    "df_f"
   ]
  },
  {
   "cell_type": "code",
   "execution_count": 102,
   "metadata": {
    "id": "g7g-mKXF2Rzr"
   },
   "outputs": [
    {
     "data": {
      "text/plain": [
       "0      48590.057\n",
       "1      49940.332\n",
       "2      52383.789\n",
       "3      54752.126\n",
       "4      54273.600\n",
       "5      55105.470\n",
       "6      57442.284\n",
       "7      59268.435\n",
       "8      61303.836\n",
       "9      62848.849\n",
       "10     61992.245\n",
       "11     61943.777\n",
       "12     61185.313\n",
       "13     62284.035\n",
       "14     64505.298\n",
       "15     65389.158\n",
       "16     67116.323\n",
       "17     69033.044\n",
       "18     71329.628\n",
       "19     71435.309\n",
       "20     72966.003\n",
       "21     73342.474\n",
       "22     73451.601\n",
       "23     73994.529\n",
       "24     74548.366\n",
       "25     76520.009\n",
       "26     77608.944\n",
       "27     78845.928\n",
       "28     78946.330\n",
       "29     80963.636\n",
       "30     82468.648\n",
       "31     83123.350\n",
       "32     84720.991\n",
       "33     87367.539\n",
       "34     91099.837\n",
       "35     93405.837\n",
       "36     95711.010\n",
       "37     97897.316\n",
       "38     98264.880\n",
       "39     96967.501\n",
       "40    103022.523\n",
       "dtype: float64"
      ]
     },
     "execution_count": 102,
     "metadata": {},
     "output_type": "execute_result"
    }
   ],
   "source": [
    "model_fit_ARIMA_w.fittedvalues"
   ]
  },
  {
   "cell_type": "code",
   "execution_count": 103,
   "metadata": {
    "id": "3LkRRkZQwM5B"
   },
   "outputs": [
    {
     "data": {
      "application/vnd.plotly.v1+json": {
       "config": {
        "plotlyServerURL": "https://plot.ly"
       },
       "data": [
        {
         "hovertemplate": "variable=Consumption<br>Year=%{x}<br>value=%{y}<extra></extra>",
         "legendgroup": "Consumption",
         "line": {
          "color": "blue",
          "dash": "solid"
         },
         "marker": {
          "symbol": "circle"
         },
         "mode": "lines",
         "name": "Consumption",
         "orientation": "v",
         "showlegend": true,
         "type": "scatter",
         "x": {
          "bdata": "3AfdB94H3wfgB+EH4gfjB+QH5QfmBw==",
          "dtype": "i2"
         },
         "xaxis": "x",
         "y": {
          "bdata": "4eo4snVb+UC98cAAjtb5QEL+wsAuLPpApfIHh8Zn+kCEMrgG/7j6QOb3vHazQvtAM+VDIK3l+0DPfhkGnQ38QDOoOzGR1fpAePivTw81/EAusrHT+Jv8QA==",
          "dtype": "f8"
         },
         "yaxis": "y"
        },
        {
         "hovertemplate": "variable=predicted_mean<br>Year=%{x}<br>value=%{y}<extra></extra>",
         "legendgroup": "predicted_mean",
         "line": {
          "color": "red",
          "dash": "solid"
         },
         "marker": {
          "symbol": "circle"
         },
         "mode": "lines",
         "name": "predicted_mean",
         "orientation": "v",
         "showlegend": true,
         "type": "scatter",
         "x": {
          "bdata": "3AfdB94H3wfgB+EH4gfjB+QH5QfmBw==",
          "dtype": "i2"
         },
         "xaxis": "x",
         "y": {
          "bdata": "+c0ZxzgC+UDGdwV/7TP5QFIYLBwkK/lAZJ9ltw9F+UCAzCv8uUf5QDmkPvpTX/lAFGyBYNlx+UCFDp1MJJT5QKpoP+9IuvlAHBQMhrnt+UA0IpIIgij6QA==",
          "dtype": "f8"
         },
         "yaxis": "y"
        }
       ],
       "layout": {
        "height": 500,
        "legend": {
         "title": {
          "text": "variable"
         },
         "tracegroupgap": 0
        },
        "template": {
         "data": {
          "bar": [
           {
            "error_x": {
             "color": "#2a3f5f"
            },
            "error_y": {
             "color": "#2a3f5f"
            },
            "marker": {
             "line": {
              "color": "#E5ECF6",
              "width": 0.5
             },
             "pattern": {
              "fillmode": "overlay",
              "size": 10,
              "solidity": 0.2
             }
            },
            "type": "bar"
           }
          ],
          "barpolar": [
           {
            "marker": {
             "line": {
              "color": "#E5ECF6",
              "width": 0.5
             },
             "pattern": {
              "fillmode": "overlay",
              "size": 10,
              "solidity": 0.2
             }
            },
            "type": "barpolar"
           }
          ],
          "carpet": [
           {
            "aaxis": {
             "endlinecolor": "#2a3f5f",
             "gridcolor": "white",
             "linecolor": "white",
             "minorgridcolor": "white",
             "startlinecolor": "#2a3f5f"
            },
            "baxis": {
             "endlinecolor": "#2a3f5f",
             "gridcolor": "white",
             "linecolor": "white",
             "minorgridcolor": "white",
             "startlinecolor": "#2a3f5f"
            },
            "type": "carpet"
           }
          ],
          "choropleth": [
           {
            "colorbar": {
             "outlinewidth": 0,
             "ticks": ""
            },
            "type": "choropleth"
           }
          ],
          "contour": [
           {
            "colorbar": {
             "outlinewidth": 0,
             "ticks": ""
            },
            "colorscale": [
             [
              0,
              "#0d0887"
             ],
             [
              0.1111111111111111,
              "#46039f"
             ],
             [
              0.2222222222222222,
              "#7201a8"
             ],
             [
              0.3333333333333333,
              "#9c179e"
             ],
             [
              0.4444444444444444,
              "#bd3786"
             ],
             [
              0.5555555555555556,
              "#d8576b"
             ],
             [
              0.6666666666666666,
              "#ed7953"
             ],
             [
              0.7777777777777778,
              "#fb9f3a"
             ],
             [
              0.8888888888888888,
              "#fdca26"
             ],
             [
              1,
              "#f0f921"
             ]
            ],
            "type": "contour"
           }
          ],
          "contourcarpet": [
           {
            "colorbar": {
             "outlinewidth": 0,
             "ticks": ""
            },
            "type": "contourcarpet"
           }
          ],
          "heatmap": [
           {
            "colorbar": {
             "outlinewidth": 0,
             "ticks": ""
            },
            "colorscale": [
             [
              0,
              "#0d0887"
             ],
             [
              0.1111111111111111,
              "#46039f"
             ],
             [
              0.2222222222222222,
              "#7201a8"
             ],
             [
              0.3333333333333333,
              "#9c179e"
             ],
             [
              0.4444444444444444,
              "#bd3786"
             ],
             [
              0.5555555555555556,
              "#d8576b"
             ],
             [
              0.6666666666666666,
              "#ed7953"
             ],
             [
              0.7777777777777778,
              "#fb9f3a"
             ],
             [
              0.8888888888888888,
              "#fdca26"
             ],
             [
              1,
              "#f0f921"
             ]
            ],
            "type": "heatmap"
           }
          ],
          "histogram": [
           {
            "marker": {
             "pattern": {
              "fillmode": "overlay",
              "size": 10,
              "solidity": 0.2
             }
            },
            "type": "histogram"
           }
          ],
          "histogram2d": [
           {
            "colorbar": {
             "outlinewidth": 0,
             "ticks": ""
            },
            "colorscale": [
             [
              0,
              "#0d0887"
             ],
             [
              0.1111111111111111,
              "#46039f"
             ],
             [
              0.2222222222222222,
              "#7201a8"
             ],
             [
              0.3333333333333333,
              "#9c179e"
             ],
             [
              0.4444444444444444,
              "#bd3786"
             ],
             [
              0.5555555555555556,
              "#d8576b"
             ],
             [
              0.6666666666666666,
              "#ed7953"
             ],
             [
              0.7777777777777778,
              "#fb9f3a"
             ],
             [
              0.8888888888888888,
              "#fdca26"
             ],
             [
              1,
              "#f0f921"
             ]
            ],
            "type": "histogram2d"
           }
          ],
          "histogram2dcontour": [
           {
            "colorbar": {
             "outlinewidth": 0,
             "ticks": ""
            },
            "colorscale": [
             [
              0,
              "#0d0887"
             ],
             [
              0.1111111111111111,
              "#46039f"
             ],
             [
              0.2222222222222222,
              "#7201a8"
             ],
             [
              0.3333333333333333,
              "#9c179e"
             ],
             [
              0.4444444444444444,
              "#bd3786"
             ],
             [
              0.5555555555555556,
              "#d8576b"
             ],
             [
              0.6666666666666666,
              "#ed7953"
             ],
             [
              0.7777777777777778,
              "#fb9f3a"
             ],
             [
              0.8888888888888888,
              "#fdca26"
             ],
             [
              1,
              "#f0f921"
             ]
            ],
            "type": "histogram2dcontour"
           }
          ],
          "mesh3d": [
           {
            "colorbar": {
             "outlinewidth": 0,
             "ticks": ""
            },
            "type": "mesh3d"
           }
          ],
          "parcoords": [
           {
            "line": {
             "colorbar": {
              "outlinewidth": 0,
              "ticks": ""
             }
            },
            "type": "parcoords"
           }
          ],
          "pie": [
           {
            "automargin": true,
            "type": "pie"
           }
          ],
          "scatter": [
           {
            "fillpattern": {
             "fillmode": "overlay",
             "size": 10,
             "solidity": 0.2
            },
            "type": "scatter"
           }
          ],
          "scatter3d": [
           {
            "line": {
             "colorbar": {
              "outlinewidth": 0,
              "ticks": ""
             }
            },
            "marker": {
             "colorbar": {
              "outlinewidth": 0,
              "ticks": ""
             }
            },
            "type": "scatter3d"
           }
          ],
          "scattercarpet": [
           {
            "marker": {
             "colorbar": {
              "outlinewidth": 0,
              "ticks": ""
             }
            },
            "type": "scattercarpet"
           }
          ],
          "scattergeo": [
           {
            "marker": {
             "colorbar": {
              "outlinewidth": 0,
              "ticks": ""
             }
            },
            "type": "scattergeo"
           }
          ],
          "scattergl": [
           {
            "marker": {
             "colorbar": {
              "outlinewidth": 0,
              "ticks": ""
             }
            },
            "type": "scattergl"
           }
          ],
          "scattermap": [
           {
            "marker": {
             "colorbar": {
              "outlinewidth": 0,
              "ticks": ""
             }
            },
            "type": "scattermap"
           }
          ],
          "scattermapbox": [
           {
            "marker": {
             "colorbar": {
              "outlinewidth": 0,
              "ticks": ""
             }
            },
            "type": "scattermapbox"
           }
          ],
          "scatterpolar": [
           {
            "marker": {
             "colorbar": {
              "outlinewidth": 0,
              "ticks": ""
             }
            },
            "type": "scatterpolar"
           }
          ],
          "scatterpolargl": [
           {
            "marker": {
             "colorbar": {
              "outlinewidth": 0,
              "ticks": ""
             }
            },
            "type": "scatterpolargl"
           }
          ],
          "scatterternary": [
           {
            "marker": {
             "colorbar": {
              "outlinewidth": 0,
              "ticks": ""
             }
            },
            "type": "scatterternary"
           }
          ],
          "surface": [
           {
            "colorbar": {
             "outlinewidth": 0,
             "ticks": ""
            },
            "colorscale": [
             [
              0,
              "#0d0887"
             ],
             [
              0.1111111111111111,
              "#46039f"
             ],
             [
              0.2222222222222222,
              "#7201a8"
             ],
             [
              0.3333333333333333,
              "#9c179e"
             ],
             [
              0.4444444444444444,
              "#bd3786"
             ],
             [
              0.5555555555555556,
              "#d8576b"
             ],
             [
              0.6666666666666666,
              "#ed7953"
             ],
             [
              0.7777777777777778,
              "#fb9f3a"
             ],
             [
              0.8888888888888888,
              "#fdca26"
             ],
             [
              1,
              "#f0f921"
             ]
            ],
            "type": "surface"
           }
          ],
          "table": [
           {
            "cells": {
             "fill": {
              "color": "#EBF0F8"
             },
             "line": {
              "color": "white"
             }
            },
            "header": {
             "fill": {
              "color": "#C8D4E3"
             },
             "line": {
              "color": "white"
             }
            },
            "type": "table"
           }
          ]
         },
         "layout": {
          "annotationdefaults": {
           "arrowcolor": "#2a3f5f",
           "arrowhead": 0,
           "arrowwidth": 1
          },
          "autotypenumbers": "strict",
          "coloraxis": {
           "colorbar": {
            "outlinewidth": 0,
            "ticks": ""
           }
          },
          "colorscale": {
           "diverging": [
            [
             0,
             "#8e0152"
            ],
            [
             0.1,
             "#c51b7d"
            ],
            [
             0.2,
             "#de77ae"
            ],
            [
             0.3,
             "#f1b6da"
            ],
            [
             0.4,
             "#fde0ef"
            ],
            [
             0.5,
             "#f7f7f7"
            ],
            [
             0.6,
             "#e6f5d0"
            ],
            [
             0.7,
             "#b8e186"
            ],
            [
             0.8,
             "#7fbc41"
            ],
            [
             0.9,
             "#4d9221"
            ],
            [
             1,
             "#276419"
            ]
           ],
           "sequential": [
            [
             0,
             "#0d0887"
            ],
            [
             0.1111111111111111,
             "#46039f"
            ],
            [
             0.2222222222222222,
             "#7201a8"
            ],
            [
             0.3333333333333333,
             "#9c179e"
            ],
            [
             0.4444444444444444,
             "#bd3786"
            ],
            [
             0.5555555555555556,
             "#d8576b"
            ],
            [
             0.6666666666666666,
             "#ed7953"
            ],
            [
             0.7777777777777778,
             "#fb9f3a"
            ],
            [
             0.8888888888888888,
             "#fdca26"
            ],
            [
             1,
             "#f0f921"
            ]
           ],
           "sequentialminus": [
            [
             0,
             "#0d0887"
            ],
            [
             0.1111111111111111,
             "#46039f"
            ],
            [
             0.2222222222222222,
             "#7201a8"
            ],
            [
             0.3333333333333333,
             "#9c179e"
            ],
            [
             0.4444444444444444,
             "#bd3786"
            ],
            [
             0.5555555555555556,
             "#d8576b"
            ],
            [
             0.6666666666666666,
             "#ed7953"
            ],
            [
             0.7777777777777778,
             "#fb9f3a"
            ],
            [
             0.8888888888888888,
             "#fdca26"
            ],
            [
             1,
             "#f0f921"
            ]
           ]
          },
          "colorway": [
           "#636efa",
           "#EF553B",
           "#00cc96",
           "#ab63fa",
           "#FFA15A",
           "#19d3f3",
           "#FF6692",
           "#B6E880",
           "#FF97FF",
           "#FECB52"
          ],
          "font": {
           "color": "#2a3f5f"
          },
          "geo": {
           "bgcolor": "white",
           "lakecolor": "white",
           "landcolor": "#E5ECF6",
           "showlakes": true,
           "showland": true,
           "subunitcolor": "white"
          },
          "hoverlabel": {
           "align": "left"
          },
          "hovermode": "closest",
          "mapbox": {
           "style": "light"
          },
          "paper_bgcolor": "white",
          "plot_bgcolor": "#E5ECF6",
          "polar": {
           "angularaxis": {
            "gridcolor": "white",
            "linecolor": "white",
            "ticks": ""
           },
           "bgcolor": "#E5ECF6",
           "radialaxis": {
            "gridcolor": "white",
            "linecolor": "white",
            "ticks": ""
           }
          },
          "scene": {
           "xaxis": {
            "backgroundcolor": "#E5ECF6",
            "gridcolor": "white",
            "gridwidth": 2,
            "linecolor": "white",
            "showbackground": true,
            "ticks": "",
            "zerolinecolor": "white"
           },
           "yaxis": {
            "backgroundcolor": "#E5ECF6",
            "gridcolor": "white",
            "gridwidth": 2,
            "linecolor": "white",
            "showbackground": true,
            "ticks": "",
            "zerolinecolor": "white"
           },
           "zaxis": {
            "backgroundcolor": "#E5ECF6",
            "gridcolor": "white",
            "gridwidth": 2,
            "linecolor": "white",
            "showbackground": true,
            "ticks": "",
            "zerolinecolor": "white"
           }
          },
          "shapedefaults": {
           "line": {
            "color": "#2a3f5f"
           }
          },
          "ternary": {
           "aaxis": {
            "gridcolor": "white",
            "linecolor": "white",
            "ticks": ""
           },
           "baxis": {
            "gridcolor": "white",
            "linecolor": "white",
            "ticks": ""
           },
           "bgcolor": "#E5ECF6",
           "caxis": {
            "gridcolor": "white",
            "linecolor": "white",
            "ticks": ""
           }
          },
          "title": {
           "x": 0.05
          },
          "xaxis": {
           "automargin": true,
           "gridcolor": "white",
           "linecolor": "white",
           "ticks": "",
           "title": {
            "standoff": 15
           },
           "zerolinecolor": "white",
           "zerolinewidth": 2
          },
          "yaxis": {
           "automargin": true,
           "gridcolor": "white",
           "linecolor": "white",
           "ticks": "",
           "title": {
            "standoff": 15
           },
           "zerolinecolor": "white",
           "zerolinewidth": 2
          }
         }
        },
        "title": {
         "text": "Total World Energy Consumption"
        },
        "width": 1000,
        "xaxis": {
         "anchor": "y",
         "domain": [
          0,
          1
         ],
         "title": {
          "text": "Year"
         }
        },
        "yaxis": {
         "anchor": "x",
         "domain": [
          0,
          1
         ],
         "title": {
          "text": "value"
         }
        }
       }
      }
     },
     "metadata": {},
     "output_type": "display_data"
    }
   ],
   "source": [
    "fig = px.line(df_f, x= 'Year', y=['Consumption','predicted_mean'], color_discrete_sequence=['blue', 'red'], title=\"Total World Energy Consumption\", height=500, width=1000)\n",
    "fig.show()"
   ]
  },
  {
   "cell_type": "code",
   "execution_count": 104,
   "metadata": {
    "id": "yyk53FVQqVpP"
   },
   "outputs": [
    {
     "data": {
      "application/vnd.plotly.v1+json": {
       "config": {
        "plotlyServerURL": "https://plot.ly"
       },
       "data": [
        {
         "hovertemplate": "variable=Total Consumption<br>Year=%{x}<br>value=%{y}<extra></extra>",
         "legendgroup": "Total Consumption",
         "line": {
          "color": "blue",
          "dash": "solid"
         },
         "marker": {
          "symbol": "circle"
         },
         "mode": "lines",
         "name": "Total Consumption",
         "orientation": "v",
         "showlegend": true,
         "type": "scatter",
         "x": {
          "bdata": "5gcAAOcHAADoBwAA",
          "dtype": "i4"
         },
         "xaxis": "x",
         "y": {
          "bdata": "opyIxI6ZekAHR5HekCN+QBFgxCEr84FA",
          "dtype": "f8"
         },
         "yaxis": "y"
        },
        {
         "hovertemplate": "variable=predicted_mean<br>Year=%{x}<br>value=%{y}<extra></extra>",
         "legendgroup": "predicted_mean",
         "line": {
          "color": "red",
          "dash": "solid"
         },
         "marker": {
          "symbol": "circle"
         },
         "mode": "lines",
         "name": "predicted_mean",
         "orientation": "v",
         "showlegend": true,
         "type": "scatter",
         "x": {
          "bdata": "5gcAAOcHAADoBwAA",
          "dtype": "i4"
         },
         "xaxis": "x",
         "y": {
          "bdata": "QHTz5aXReUD3xqUKfg96QCmVXc7J2HlA",
          "dtype": "f8"
         },
         "yaxis": "y"
        }
       ],
       "layout": {
        "height": 500,
        "legend": {
         "title": {
          "text": "variable"
         },
         "tracegroupgap": 0
        },
        "template": {
         "data": {
          "bar": [
           {
            "error_x": {
             "color": "#2a3f5f"
            },
            "error_y": {
             "color": "#2a3f5f"
            },
            "marker": {
             "line": {
              "color": "#E5ECF6",
              "width": 0.5
             },
             "pattern": {
              "fillmode": "overlay",
              "size": 10,
              "solidity": 0.2
             }
            },
            "type": "bar"
           }
          ],
          "barpolar": [
           {
            "marker": {
             "line": {
              "color": "#E5ECF6",
              "width": 0.5
             },
             "pattern": {
              "fillmode": "overlay",
              "size": 10,
              "solidity": 0.2
             }
            },
            "type": "barpolar"
           }
          ],
          "carpet": [
           {
            "aaxis": {
             "endlinecolor": "#2a3f5f",
             "gridcolor": "white",
             "linecolor": "white",
             "minorgridcolor": "white",
             "startlinecolor": "#2a3f5f"
            },
            "baxis": {
             "endlinecolor": "#2a3f5f",
             "gridcolor": "white",
             "linecolor": "white",
             "minorgridcolor": "white",
             "startlinecolor": "#2a3f5f"
            },
            "type": "carpet"
           }
          ],
          "choropleth": [
           {
            "colorbar": {
             "outlinewidth": 0,
             "ticks": ""
            },
            "type": "choropleth"
           }
          ],
          "contour": [
           {
            "colorbar": {
             "outlinewidth": 0,
             "ticks": ""
            },
            "colorscale": [
             [
              0,
              "#0d0887"
             ],
             [
              0.1111111111111111,
              "#46039f"
             ],
             [
              0.2222222222222222,
              "#7201a8"
             ],
             [
              0.3333333333333333,
              "#9c179e"
             ],
             [
              0.4444444444444444,
              "#bd3786"
             ],
             [
              0.5555555555555556,
              "#d8576b"
             ],
             [
              0.6666666666666666,
              "#ed7953"
             ],
             [
              0.7777777777777778,
              "#fb9f3a"
             ],
             [
              0.8888888888888888,
              "#fdca26"
             ],
             [
              1,
              "#f0f921"
             ]
            ],
            "type": "contour"
           }
          ],
          "contourcarpet": [
           {
            "colorbar": {
             "outlinewidth": 0,
             "ticks": ""
            },
            "type": "contourcarpet"
           }
          ],
          "heatmap": [
           {
            "colorbar": {
             "outlinewidth": 0,
             "ticks": ""
            },
            "colorscale": [
             [
              0,
              "#0d0887"
             ],
             [
              0.1111111111111111,
              "#46039f"
             ],
             [
              0.2222222222222222,
              "#7201a8"
             ],
             [
              0.3333333333333333,
              "#9c179e"
             ],
             [
              0.4444444444444444,
              "#bd3786"
             ],
             [
              0.5555555555555556,
              "#d8576b"
             ],
             [
              0.6666666666666666,
              "#ed7953"
             ],
             [
              0.7777777777777778,
              "#fb9f3a"
             ],
             [
              0.8888888888888888,
              "#fdca26"
             ],
             [
              1,
              "#f0f921"
             ]
            ],
            "type": "heatmap"
           }
          ],
          "histogram": [
           {
            "marker": {
             "pattern": {
              "fillmode": "overlay",
              "size": 10,
              "solidity": 0.2
             }
            },
            "type": "histogram"
           }
          ],
          "histogram2d": [
           {
            "colorbar": {
             "outlinewidth": 0,
             "ticks": ""
            },
            "colorscale": [
             [
              0,
              "#0d0887"
             ],
             [
              0.1111111111111111,
              "#46039f"
             ],
             [
              0.2222222222222222,
              "#7201a8"
             ],
             [
              0.3333333333333333,
              "#9c179e"
             ],
             [
              0.4444444444444444,
              "#bd3786"
             ],
             [
              0.5555555555555556,
              "#d8576b"
             ],
             [
              0.6666666666666666,
              "#ed7953"
             ],
             [
              0.7777777777777778,
              "#fb9f3a"
             ],
             [
              0.8888888888888888,
              "#fdca26"
             ],
             [
              1,
              "#f0f921"
             ]
            ],
            "type": "histogram2d"
           }
          ],
          "histogram2dcontour": [
           {
            "colorbar": {
             "outlinewidth": 0,
             "ticks": ""
            },
            "colorscale": [
             [
              0,
              "#0d0887"
             ],
             [
              0.1111111111111111,
              "#46039f"
             ],
             [
              0.2222222222222222,
              "#7201a8"
             ],
             [
              0.3333333333333333,
              "#9c179e"
             ],
             [
              0.4444444444444444,
              "#bd3786"
             ],
             [
              0.5555555555555556,
              "#d8576b"
             ],
             [
              0.6666666666666666,
              "#ed7953"
             ],
             [
              0.7777777777777778,
              "#fb9f3a"
             ],
             [
              0.8888888888888888,
              "#fdca26"
             ],
             [
              1,
              "#f0f921"
             ]
            ],
            "type": "histogram2dcontour"
           }
          ],
          "mesh3d": [
           {
            "colorbar": {
             "outlinewidth": 0,
             "ticks": ""
            },
            "type": "mesh3d"
           }
          ],
          "parcoords": [
           {
            "line": {
             "colorbar": {
              "outlinewidth": 0,
              "ticks": ""
             }
            },
            "type": "parcoords"
           }
          ],
          "pie": [
           {
            "automargin": true,
            "type": "pie"
           }
          ],
          "scatter": [
           {
            "fillpattern": {
             "fillmode": "overlay",
             "size": 10,
             "solidity": 0.2
            },
            "type": "scatter"
           }
          ],
          "scatter3d": [
           {
            "line": {
             "colorbar": {
              "outlinewidth": 0,
              "ticks": ""
             }
            },
            "marker": {
             "colorbar": {
              "outlinewidth": 0,
              "ticks": ""
             }
            },
            "type": "scatter3d"
           }
          ],
          "scattercarpet": [
           {
            "marker": {
             "colorbar": {
              "outlinewidth": 0,
              "ticks": ""
             }
            },
            "type": "scattercarpet"
           }
          ],
          "scattergeo": [
           {
            "marker": {
             "colorbar": {
              "outlinewidth": 0,
              "ticks": ""
             }
            },
            "type": "scattergeo"
           }
          ],
          "scattergl": [
           {
            "marker": {
             "colorbar": {
              "outlinewidth": 0,
              "ticks": ""
             }
            },
            "type": "scattergl"
           }
          ],
          "scattermap": [
           {
            "marker": {
             "colorbar": {
              "outlinewidth": 0,
              "ticks": ""
             }
            },
            "type": "scattermap"
           }
          ],
          "scattermapbox": [
           {
            "marker": {
             "colorbar": {
              "outlinewidth": 0,
              "ticks": ""
             }
            },
            "type": "scattermapbox"
           }
          ],
          "scatterpolar": [
           {
            "marker": {
             "colorbar": {
              "outlinewidth": 0,
              "ticks": ""
             }
            },
            "type": "scatterpolar"
           }
          ],
          "scatterpolargl": [
           {
            "marker": {
             "colorbar": {
              "outlinewidth": 0,
              "ticks": ""
             }
            },
            "type": "scatterpolargl"
           }
          ],
          "scatterternary": [
           {
            "marker": {
             "colorbar": {
              "outlinewidth": 0,
              "ticks": ""
             }
            },
            "type": "scatterternary"
           }
          ],
          "surface": [
           {
            "colorbar": {
             "outlinewidth": 0,
             "ticks": ""
            },
            "colorscale": [
             [
              0,
              "#0d0887"
             ],
             [
              0.1111111111111111,
              "#46039f"
             ],
             [
              0.2222222222222222,
              "#7201a8"
             ],
             [
              0.3333333333333333,
              "#9c179e"
             ],
             [
              0.4444444444444444,
              "#bd3786"
             ],
             [
              0.5555555555555556,
              "#d8576b"
             ],
             [
              0.6666666666666666,
              "#ed7953"
             ],
             [
              0.7777777777777778,
              "#fb9f3a"
             ],
             [
              0.8888888888888888,
              "#fdca26"
             ],
             [
              1,
              "#f0f921"
             ]
            ],
            "type": "surface"
           }
          ],
          "table": [
           {
            "cells": {
             "fill": {
              "color": "#EBF0F8"
             },
             "line": {
              "color": "white"
             }
            },
            "header": {
             "fill": {
              "color": "#C8D4E3"
             },
             "line": {
              "color": "white"
             }
            },
            "type": "table"
           }
          ]
         },
         "layout": {
          "annotationdefaults": {
           "arrowcolor": "#2a3f5f",
           "arrowhead": 0,
           "arrowwidth": 1
          },
          "autotypenumbers": "strict",
          "coloraxis": {
           "colorbar": {
            "outlinewidth": 0,
            "ticks": ""
           }
          },
          "colorscale": {
           "diverging": [
            [
             0,
             "#8e0152"
            ],
            [
             0.1,
             "#c51b7d"
            ],
            [
             0.2,
             "#de77ae"
            ],
            [
             0.3,
             "#f1b6da"
            ],
            [
             0.4,
             "#fde0ef"
            ],
            [
             0.5,
             "#f7f7f7"
            ],
            [
             0.6,
             "#e6f5d0"
            ],
            [
             0.7,
             "#b8e186"
            ],
            [
             0.8,
             "#7fbc41"
            ],
            [
             0.9,
             "#4d9221"
            ],
            [
             1,
             "#276419"
            ]
           ],
           "sequential": [
            [
             0,
             "#0d0887"
            ],
            [
             0.1111111111111111,
             "#46039f"
            ],
            [
             0.2222222222222222,
             "#7201a8"
            ],
            [
             0.3333333333333333,
             "#9c179e"
            ],
            [
             0.4444444444444444,
             "#bd3786"
            ],
            [
             0.5555555555555556,
             "#d8576b"
            ],
            [
             0.6666666666666666,
             "#ed7953"
            ],
            [
             0.7777777777777778,
             "#fb9f3a"
            ],
            [
             0.8888888888888888,
             "#fdca26"
            ],
            [
             1,
             "#f0f921"
            ]
           ],
           "sequentialminus": [
            [
             0,
             "#0d0887"
            ],
            [
             0.1111111111111111,
             "#46039f"
            ],
            [
             0.2222222222222222,
             "#7201a8"
            ],
            [
             0.3333333333333333,
             "#9c179e"
            ],
            [
             0.4444444444444444,
             "#bd3786"
            ],
            [
             0.5555555555555556,
             "#d8576b"
            ],
            [
             0.6666666666666666,
             "#ed7953"
            ],
            [
             0.7777777777777778,
             "#fb9f3a"
            ],
            [
             0.8888888888888888,
             "#fdca26"
            ],
            [
             1,
             "#f0f921"
            ]
           ]
          },
          "colorway": [
           "#636efa",
           "#EF553B",
           "#00cc96",
           "#ab63fa",
           "#FFA15A",
           "#19d3f3",
           "#FF6692",
           "#B6E880",
           "#FF97FF",
           "#FECB52"
          ],
          "font": {
           "color": "#2a3f5f"
          },
          "geo": {
           "bgcolor": "white",
           "lakecolor": "white",
           "landcolor": "#E5ECF6",
           "showlakes": true,
           "showland": true,
           "subunitcolor": "white"
          },
          "hoverlabel": {
           "align": "left"
          },
          "hovermode": "closest",
          "mapbox": {
           "style": "light"
          },
          "paper_bgcolor": "white",
          "plot_bgcolor": "#E5ECF6",
          "polar": {
           "angularaxis": {
            "gridcolor": "white",
            "linecolor": "white",
            "ticks": ""
           },
           "bgcolor": "#E5ECF6",
           "radialaxis": {
            "gridcolor": "white",
            "linecolor": "white",
            "ticks": ""
           }
          },
          "scene": {
           "xaxis": {
            "backgroundcolor": "#E5ECF6",
            "gridcolor": "white",
            "gridwidth": 2,
            "linecolor": "white",
            "showbackground": true,
            "ticks": "",
            "zerolinecolor": "white"
           },
           "yaxis": {
            "backgroundcolor": "#E5ECF6",
            "gridcolor": "white",
            "gridwidth": 2,
            "linecolor": "white",
            "showbackground": true,
            "ticks": "",
            "zerolinecolor": "white"
           },
           "zaxis": {
            "backgroundcolor": "#E5ECF6",
            "gridcolor": "white",
            "gridwidth": 2,
            "linecolor": "white",
            "showbackground": true,
            "ticks": "",
            "zerolinecolor": "white"
           }
          },
          "shapedefaults": {
           "line": {
            "color": "#2a3f5f"
           }
          },
          "ternary": {
           "aaxis": {
            "gridcolor": "white",
            "linecolor": "white",
            "ticks": ""
           },
           "baxis": {
            "gridcolor": "white",
            "linecolor": "white",
            "ticks": ""
           },
           "bgcolor": "#E5ECF6",
           "caxis": {
            "gridcolor": "white",
            "linecolor": "white",
            "ticks": ""
           }
          },
          "title": {
           "x": 0.05
          },
          "xaxis": {
           "automargin": true,
           "gridcolor": "white",
           "linecolor": "white",
           "ticks": "",
           "title": {
            "standoff": 15
           },
           "zerolinecolor": "white",
           "zerolinewidth": 2
          },
          "yaxis": {
           "automargin": true,
           "gridcolor": "white",
           "linecolor": "white",
           "ticks": "",
           "title": {
            "standoff": 15
           },
           "zerolinecolor": "white",
           "zerolinewidth": 2
          }
         }
        },
        "title": {
         "text": "Total World Energy Consumption"
        },
        "width": 1000,
        "xaxis": {
         "anchor": "y",
         "domain": [
          0,
          1
         ],
         "title": {
          "text": "Year"
         }
        },
        "yaxis": {
         "anchor": "x",
         "domain": [
          0,
          1
         ],
         "title": {
          "text": "value"
         }
        }
       }
      }
     },
     "metadata": {},
     "output_type": "display_data"
    }
   ],
   "source": [
    "df2 = pd.merge(X_validation_ARIMA_cd, Y_validation_cd, left_index=True, right_index=True)\n",
    "df2_f = pd.merge(df2, predictions_arima_cd, left_index=True, right_index=True)\n",
    "fig = px.line(df2_f, x= 'Year', y=['Total Consumption','predicted_mean'], color_discrete_sequence=['blue', 'red'], title=\"Total World Energy Consumption\", height=500, width=1000)\n",
    "fig.show()"
   ]
  },
  {
   "cell_type": "markdown",
   "metadata": {
    "id": "pThMMXoMGIE8"
   },
   "source": [
    "<a id='6.2'></a>\n",
    "## 7.2. Variable Intuition/Feature Importance\n",
    "Let us look into the Feature Importance of the Random Forest model"
   ]
  },
  {
   "cell_type": "code",
   "execution_count": 105,
   "metadata": {
    "id": "cCvYaig8GIE9"
   },
   "outputs": [
    {
     "ename": "NameError",
     "evalue": "name 'X_train' is not defined",
     "output_type": "error",
     "traceback": [
      "\u001b[1;31m---------------------------------------------------------------------------\u001b[0m",
      "\u001b[1;31mNameError\u001b[0m                                 Traceback (most recent call last)",
      "Cell \u001b[1;32mIn[105], line 4\u001b[0m\n\u001b[0;32m      2\u001b[0m \u001b[38;5;28;01mimport\u001b[39;00m \u001b[38;5;21;01mnumpy\u001b[39;00m \u001b[38;5;28;01mas\u001b[39;00m \u001b[38;5;21;01mnp\u001b[39;00m\n\u001b[0;32m      3\u001b[0m model \u001b[38;5;241m=\u001b[39m RandomForestRegressor()\n\u001b[1;32m----> 4\u001b[0m model\u001b[38;5;241m.\u001b[39mfit(\u001b[43mX_train\u001b[49m,Y_train)\n\u001b[0;32m      5\u001b[0m \u001b[38;5;28mprint\u001b[39m(model\u001b[38;5;241m.\u001b[39mfeature_importances_) \u001b[38;5;66;03m#use inbuilt class feature_importances of tree based regressors\u001b[39;00m\n\u001b[0;32m      6\u001b[0m \u001b[38;5;66;03m#plot graph of feature importances for better visualization\u001b[39;00m\n",
      "\u001b[1;31mNameError\u001b[0m: name 'X_train' is not defined"
     ]
    }
   ],
   "source": [
    "import pandas as pd\n",
    "import numpy as np\n",
    "model = RandomForestRegressor()\n",
    "model.fit(X_train,Y_train)\n",
    "print(model.feature_importances_) #use inbuilt class feature_importances of tree based regressors\n",
    "#plot graph of feature importances for better visualization\n",
    "feat_importances = pd.Series(model.feature_importances_, index=X.columns)\n",
    "feat_importances.nlargest(10).plot(kind='barh')\n",
    "pyplot.show()"
   ]
  },
  {
   "cell_type": "markdown",
   "metadata": {
    "id": "sVixAtLUGIE9"
   },
   "source": [
    "<a id='6.3'></a>\n",
    "## 7.3. Save Model for Later Use"
   ]
  },
  {
   "cell_type": "code",
   "execution_count": null,
   "metadata": {
    "id": "_GNI7U7GGIE9"
   },
   "outputs": [],
   "source": [
    "# Save Model Using Pickle\n",
    "from pickle import dump\n",
    "from pickle import load\n",
    "\n",
    "# save the model to disk\n",
    "filename = 'finalized_model.sav'\n",
    "dump(model, open(filename, 'wb'))"
   ]
  },
  {
   "cell_type": "code",
   "execution_count": null,
   "metadata": {
    "id": "yhvunQbKGIE9"
   },
   "outputs": [],
   "source": [
    "# some time later...\n",
    "# load the model from disk\n",
    "loaded_model = load(open(filename, 'rb'))\n",
    "# estimate accuracy on validation set\n",
    "#rescaledValidationX = scaler.transform(X_validation) #in case the data is scaled.\n",
    "#predictions = model.predict(rescaledValidationX)\n",
    "predictions = model.predict(X_validation)\n",
    "result = mean_squared_error(Y_validation, predictions)\n",
    "print(result)"
   ]
  }
 ],
 "metadata": {
  "_change_revision": 206,
  "_is_fork": false,
  "colab": {
   "provenance": []
  },
  "kernelspec": {
   "display_name": "Python 3 (ipykernel)",
   "language": "python",
   "name": "python3"
  },
  "language_info": {
   "codemirror_mode": {
    "name": "ipython",
    "version": 3
   },
   "file_extension": ".py",
   "mimetype": "text/x-python",
   "name": "python",
   "nbconvert_exporter": "python",
   "pygments_lexer": "ipython3",
   "version": "3.12.3"
  }
 },
 "nbformat": 4,
 "nbformat_minor": 1
}
