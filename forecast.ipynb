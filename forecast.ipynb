{
 "cells": [
  {
   "cell_type": "markdown",
   "metadata": {},
   "source": [
    "Loading the python packages"
   ]
  },
  {
   "cell_type": "code",
   "execution_count": 3,
   "metadata": {},
   "outputs": [],
   "source": [
    "import pandas as pd\n",
    "from pickle import load\n",
    "import plotly.graph_objects as go"
   ]
  },
  {
   "cell_type": "markdown",
   "metadata": {},
   "source": [
    "Loading the Datasets from Trusted Layer"
   ]
  },
  {
   "cell_type": "code",
   "execution_count": 4,
   "metadata": {},
   "outputs": [],
   "source": [
    "crypto_ai = pd.read_csv('Trusted/crypto_ai_energy.csv')\n",
    "world = pd.read_csv('Trusted/world_energy.csv')"
   ]
  },
  {
   "cell_type": "markdown",
   "metadata": {},
   "source": [
    "Defining the forecast range"
   ]
  },
  {
   "cell_type": "code",
   "execution_count": 7,
   "metadata": {},
   "outputs": [],
   "source": [
    "years_ahead = 10\n",
    "start_year = 2025\n",
    "years_predict = pd.DataFrame({'Year':range(start_year,start_year+years_ahead,1)})"
   ]
  },
  {
   "cell_type": "markdown",
   "metadata": {},
   "source": [
    "Loading the Models from Models folder"
   ]
  },
  {
   "cell_type": "code",
   "execution_count": 8,
   "metadata": {},
   "outputs": [],
   "source": [
    "# load the model from disk\n",
    "crypto_ai_model = load(open('Models/crypto_ai_forecast.sav', 'rb'))\n",
    "world_model = load(open('Models/world_energy_forecast.sav', 'rb'))\n",
    "#rescaledValidationX = scaler.transform(X_validation) #in case the data is scaled.\n",
    "#predictions = model.predict(rescaledValidationX)\n",
    "predictions_cd = crypto_ai_model.get_forecast(steps = years_ahead, exog = years_predict)\n",
    "predictions_w = world_model.get_forecast(steps = years_ahead, exog = years_predict)"
   ]
  },
  {
   "cell_type": "code",
   "execution_count": 5,
   "metadata": {},
   "outputs": [
    {
     "data": {
      "text/html": [
       "<div>\n",
       "<style scoped>\n",
       "    .dataframe tbody tr th:only-of-type {\n",
       "        vertical-align: middle;\n",
       "    }\n",
       "\n",
       "    .dataframe tbody tr th {\n",
       "        vertical-align: top;\n",
       "    }\n",
       "\n",
       "    .dataframe thead th {\n",
       "        text-align: right;\n",
       "    }\n",
       "</style>\n",
       "<table border=\"1\" class=\"dataframe\">\n",
       "  <thead>\n",
       "    <tr style=\"text-align: right;\">\n",
       "      <th></th>\n",
       "      <th>lower Total Consumption</th>\n",
       "      <th>upper Total Consumption</th>\n",
       "    </tr>\n",
       "  </thead>\n",
       "  <tbody>\n",
       "    <tr>\n",
       "      <th>11</th>\n",
       "      <td>577.534999</td>\n",
       "      <td>655.699092</td>\n",
       "    </tr>\n",
       "    <tr>\n",
       "      <th>12</th>\n",
       "      <td>616.170363</td>\n",
       "      <td>702.752913</td>\n",
       "    </tr>\n",
       "    <tr>\n",
       "      <th>13</th>\n",
       "      <td>639.699136</td>\n",
       "      <td>729.585392</td>\n",
       "    </tr>\n",
       "    <tr>\n",
       "      <th>14</th>\n",
       "      <td>657.066002</td>\n",
       "      <td>746.262077</td>\n",
       "    </tr>\n",
       "    <tr>\n",
       "      <th>15</th>\n",
       "      <td>667.070498</td>\n",
       "      <td>759.225049</td>\n",
       "    </tr>\n",
       "    <tr>\n",
       "      <th>16</th>\n",
       "      <td>674.859831</td>\n",
       "      <td>776.337244</td>\n",
       "    </tr>\n",
       "    <tr>\n",
       "      <th>17</th>\n",
       "      <td>687.361545</td>\n",
       "      <td>800.665074</td>\n",
       "    </tr>\n",
       "    <tr>\n",
       "      <th>18</th>\n",
       "      <td>710.907732</td>\n",
       "      <td>833.605746</td>\n",
       "    </tr>\n",
       "    <tr>\n",
       "      <th>19</th>\n",
       "      <td>748.246540</td>\n",
       "      <td>875.423315</td>\n",
       "    </tr>\n",
       "    <tr>\n",
       "      <th>20</th>\n",
       "      <td>798.015876</td>\n",
       "      <td>925.699462</td>\n",
       "    </tr>\n",
       "  </tbody>\n",
       "</table>\n",
       "</div>"
      ],
      "text/plain": [
       "    lower Total Consumption  upper Total Consumption\n",
       "11               577.534999               655.699092\n",
       "12               616.170363               702.752913\n",
       "13               639.699136               729.585392\n",
       "14               657.066002               746.262077\n",
       "15               667.070498               759.225049\n",
       "16               674.859831               776.337244\n",
       "17               687.361545               800.665074\n",
       "18               710.907732               833.605746\n",
       "19               748.246540               875.423315\n",
       "20               798.015876               925.699462"
      ]
     },
     "execution_count": 5,
     "metadata": {},
     "output_type": "execute_result"
    }
   ],
   "source": [
    "predictions.conf_int()"
   ]
  },
  {
   "cell_type": "code",
   "execution_count": 6,
   "metadata": {},
   "outputs": [
    {
     "data": {
      "text/plain": [
       "11    616.617046\n",
       "12    659.461638\n",
       "13    684.642264\n",
       "14    701.664039\n",
       "15    713.147773\n",
       "16    725.598538\n",
       "17    744.013309\n",
       "18    772.256739\n",
       "19    811.834928\n",
       "20    861.857669\n",
       "Name: predicted_mean, dtype: float64"
      ]
     },
     "execution_count": 6,
     "metadata": {},
     "output_type": "execute_result"
    }
   ],
   "source": [
    "predictions.predicted_mean"
   ]
  },
  {
   "cell_type": "code",
   "execution_count": null,
   "metadata": {},
   "outputs": [],
   "source": [
    "# Create Plotly figure\n",
    "fig = go.Figure()\n",
    "\n",
    "# Observed data\n",
    "fig.add_trace(go.Scatter(\n",
    "    x=df.index, y=df['Value'],\n",
    "    mode='lines', name='Observed',\n",
    "    line=dict(color='black')\n",
    "))\n",
    "\n",
    "# Mean forecast\n",
    "fig.add_trace(go.Scatter(\n",
    "    x=mean_forecast.index, y=mean_forecast,\n",
    "    mode='lines', name='Forecast',\n",
    "    line=dict(color='blue')\n",
    "))\n",
    "\n",
    "# Confidence interval (as shaded area)\n",
    "fig.add_trace(go.Scatter(\n",
    "    x=list(mean_forecast.index) + list(mean_forecast.index[::-1]),\n",
    "    y=list(conf_int.iloc[:, 1]) + list(conf_int.iloc[:, 0][::-1]),\n",
    "    fill='toself',\n",
    "    fillcolor='rgba(0, 0, 255, 0.2)',\n",
    "    line=dict(color='rgba(255,255,255,0)'),\n",
    "    hoverinfo=\"skip\",\n",
    "    name='95% CI'\n",
    "))\n",
    "\n",
    "fig.update_layout(\n",
    "    title=\"ARIMA Forecast with Confidence Interval\",\n",
    "    xaxis_title=\"Date\",\n",
    "    yaxis_title=\"Value\",\n",
    "    template=\"plotly_white\"\n",
    ")\n",
    "\n",
    "fig.show()"
   ]
  }
 ],
 "metadata": {
  "kernelspec": {
   "display_name": "base",
   "language": "python",
   "name": "python3"
  },
  "language_info": {
   "codemirror_mode": {
    "name": "ipython",
    "version": 3
   },
   "file_extension": ".py",
   "mimetype": "text/x-python",
   "name": "python",
   "nbconvert_exporter": "python",
   "pygments_lexer": "ipython3",
   "version": "3.12.3"
  }
 },
 "nbformat": 4,
 "nbformat_minor": 2
}
